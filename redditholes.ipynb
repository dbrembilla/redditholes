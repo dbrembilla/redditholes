{
 "cells": [
  {
   "cell_type": "markdown",
   "metadata": {},
   "source": [
    "# RedditHoles - A study in  internet Rabbit Holes\n",
    "\n",
    "## An introduction to Reddit\n",
    "\n",
    "Reddit is a social media platform organised in communities, rather than individual connections. This makes the experience on the platform quite different from other Social Networks and closer, in a way, to the one of forums.  \n",
    "\n",
    "### u/User\n",
    "A user (also called redditor, usually referred as “u/” followed by the username) can make a post (also called a submission); posts (also called submissions) can be links, videos, pictures, polls or text. The OP (Original Poster) as well as other users can comment and vote (either upvote or downvote) the post if they find it interesting (so it’s not exactly like like/dislike features of other Social Networks). Finally, users can give posts awards by paying for reddit coins; these recognise the contributions of a post or comment. There are hundreds of these, from a generic gold or silver award to some following internet lingo, such as the “F” award (used ironically to ‘pay respect’). \n",
    "\n",
    "Users can mark their posts as spoilers and multiple types of flairs and markings such as OC (Original Content), Spoilers, +18 and so on. Some subreddits might have rules for posting. \n",
    "\n",
    "Users can be humans or bots. Bots have multiple uses, from auto moderation, to answering with quotes from movies and books, waving flags to other utilities and fun uses. \n",
    "#### The average redditor\n",
    "\n",
    "Reddit users, according to [data from the site itself](https://www.redditinc.com/advertising/audience), are more than 50 million with more than 100 thousand communities. They are mostly male (56%) and have between 18 and 34 year old (58%). \n",
    "\n",
    "### r/Subreddits\n",
    "\n",
    "Reddit is structured in subreddits, communities that group in various ways the interested users. Subreddits can vary from cute pets, to political parties, to recipe advice. Subreddits are usually referred to as “r/” followed by the name of the subreddits (in our case, we will study “r/conspiracy” and related subreddits). \n",
    "\n",
    "Subreddits can vary significantly. They can have rules for posting, different levels of moderation and bot acceptance, all depending from the nature of the subreddit. Rules of subreddits can have different nature; some subreddits may require the content of a post to be marked, some require sources to be linked, some can have no rules at all. This ambiguity makes Reddit a much more decentralised and open Social Network in which some of the cut down on fake news and trolls which happened on sites such as Facebook or Twitter has not yet happened at the same level. \n",
    "\n"
   ]
  },
  {
   "cell_type": "markdown",
   "metadata": {},
   "source": [
    "## Accessing Reddit Data\n",
    "In order to access data from the Reddit API, we used the [`praw` python library](https://github.com/praw-dev/praw). \n",
    "In order to use that, we need:\n",
    "- a Reddit account.\n",
    "- a Reddit app ([here](https://www.reddit.com/prefs/apps) you can create one). Here you'll find the client id under the app name once you create it, as well as the client secret and the user agent, which is your app name.\n",
    "\n",
    "Once we have those, we can access reddit from the python terminal by creating a reddit instance in praw (it is also possible to access as a user by adding username and account if you want to use it in write mode)."
   ]
  },
  {
   "cell_type": "code",
   "execution_count": null,
   "metadata": {},
   "outputs": [],
   "source": [
    "#!pip install praw\n",
    "#!pip install pandas\n",
    "import praw\n",
    "reddit = praw.Reddit(client_id = \"CMO4Nf8Dpd3YE_lftmqnHg\", client_secret= \"79YxaeUzQYqtVpvev6SbWbCMvF70-g\", user_agent= \"little_digging\")"
   ]
  },
  {
   "cell_type": "markdown",
   "metadata": {},
   "source": [
    "Now we can access information about subreddits, posts and users. As an example, we can access the top 5 posts of all time on Reddit, with the information about the author and the upvote ratio and datat:"
   ]
  },
  {
   "cell_type": "code",
   "execution_count": null,
   "metadata": {},
   "outputs": [],
   "source": [
    "for i in reddit.subreddit('all').top(limit=5): #this will print the top posts all time\n",
    "    print(i.title + ' Author: ' + i.author.name +  ' Link: https://www.reddit.com' + i.permalink + ' Subreddit: r/' + i.subreddit.display_name + ' Upvote Ratio: ' + str(i.upvote_ratio) + ' Date (UTC Format): '+str(i.created_utc))"
   ]
  },
  {
   "cell_type": "markdown",
   "metadata": {},
   "source": [
    "## Scraping Reddit, starting from r/conspiracy\n",
    "\n",
    "Our objective is to watch how a piece of news or a post is shared between different subreddits. While most social network would measure shares of a post, Reddit is built in a way that if a link is shared in the platform, it is possible to retrieve how much the original link is shared through subreddits. As an example, if an image from imgur is shared, we can use its url to search for the same object on Reddit.\n",
    "This happens because, for the most part, Reddit is used to comment news and multimedia in communities, which often present a common worldview (e.g. subbreddits made by people with same political views).\n",
    "We started with the [r/conspiracy](https://www.reddit.com/r/conspiracy/)'s posts, in particular the top 5000 posts all time. We opted for the top posts all time because the other types of ranking are time-bound and we wanted to watch the overall transmission of posts."
   ]
  },
  {
   "cell_type": "code",
   "execution_count": null,
   "metadata": {},
   "outputs": [],
   "source": [
    "import pandas as pd\n",
    "post_list=list()\n",
    "subreddit_list = list()\n",
    "conspiracy_dict=dict()\n",
    "\n",
    "for i in reddit.subreddit(\"conspiracy\").top(limit=5000): \n",
    "    post_list.append(i.url) # This may seem counterintuitive, but in praw's terms this is the original link of the resource inside the post.\n",
    "\n",
    "\n",
    "for post in post_list:\n",
    "    for repost in reddit.subreddit('all').search('url:'+post): # This function searches for the original post's element\n",
    "        subreddit_url = str(repost.subreddit)\n",
    "        subreddit_url = \"https://www.reddit.com/r/\" + subreddit_url\n",
    "        if subreddit_url in conspiracy_dict.keys():\n",
    "            conspiracy_dict[subreddit_url][0].append(\"https://www.reddit.com\"+repost.permalink)\n",
    "            conspiracy_dict[subreddit_url][1][0] +=1\n",
    "        else:\n",
    "            conspiracy_dict[subreddit_url]=[[],[1]]\n",
    "            conspiracy_dict[subreddit_url][0].append(\"https://www.reddit.com\"+repost.permalink)\n",
    "            \n",
    "                \n",
    "\n",
    "\n",
    "df = pd.DataFrame(conspiracy_dict)\n",
    "df.to_csv(r'results/conspiracy_data/conspiracy.csv',index=False)\n",
    "\n",
    "\n"
   ]
  },
  {
   "cell_type": "markdown",
   "metadata": {},
   "source": [
    "We realised after the fact that this method also got the reposts inside the same subreddit. After manually cleaning the csv in this instance, we proceeded to remove this problem in the following steps."
   ]
  },
  {
   "cell_type": "markdown",
   "metadata": {},
   "source": [
    "### Creating a network of subreddits\n",
    "\n",
    "After scraping r/conspiracy, we moved to the neighbouring subreddits. What this will do is creating a network of shared posts between subreddits.\n",
    "\n",
    "First we need to look at all the files in the directory."
   ]
  },
  {
   "cell_type": "code",
   "execution_count": 1,
   "metadata": {},
   "outputs": [],
   "source": [
    "def get_all_in_dir(dir):\n",
    "    for filename in os.listdir(dir):\n",
    "        f = os.path.join(dir, filename)\n",
    "        if os.path.isfile(f) and f[-4:] == \".csv\":\n",
    "            yield f"
   ]
  },
  {
   "cell_type": "markdown",
   "metadata": {},
   "source": [
    "Now we can scrape the other subreddits that had more than 5 posts in common with r/conspiracy."
   ]
  },
  {
   "cell_type": "code",
   "execution_count": null,
   "metadata": {},
   "outputs": [],
   "source": [
    "df1 = pd.read_csv('results/conspiracy_data/conspiracy.csv')\n",
    "id_to_analyse = []\n",
    "for column in df1.columns:\n",
    "    value = df1[column][1][1:-1]\n",
    "    if int(value) >= 5:\n",
    "        ind = column.index('/r/')\n",
    "        id = column[ind+3:]\n",
    "        id_to_analyse.append(id)\n",
    "        \n",
    "\n",
    "for subreddit in id_to_analyse:\n",
    "    post_list=list()\n",
    "    subreddit_list = list()\n",
    "    conspiracy_dict=dict() \n",
    "    for i in reddit.subreddit(subreddit).top(limit=5000):\n",
    "        post_list.append((i.title, i.score, i.url))\n",
    "\n",
    "\n",
    "\n",
    "    for post in post_list:\n",
    "        for repost in reddit.subreddit('all').search('url:'+post[2]):\n",
    "            if repost.subreddit_id != \"t5_\"+reddit.subreddit(subreddit).id: #cosa facciamo?\n",
    "                subreddit_url = str(repost.subreddit)\n",
    "                subreddit_url = \"https://www.reddit.com/r/\" + subreddit_url\n",
    "                if subreddit_url in conspiracy_dict.keys():\n",
    "                    conspiracy_dict[subreddit_url][0].append(\"https://www.reddit.com\"+repost.permalink)\n",
    "                    conspiracy_dict[subreddit_url][1][0] +=1\n",
    "                else:\n",
    "                    conspiracy_dict[subreddit_url]=[[],[1]]\n",
    "                    conspiracy_dict[subreddit_url][0].append(\"https://www.reddit.com\"+repost.permalink)\n",
    "    df = pd.DataFrame(conspiracy_dict)\n",
    "    df.to_csv(r'results/1st_level/'+subreddit+'.csv')"
   ]
  },
  {
   "cell_type": "markdown",
   "metadata": {},
   "source": [
    "We repeat the cycle one more time, but this time with just the top 500 posts, in order to speed up the process."
   ]
  },
  {
   "cell_type": "code",
   "execution_count": null,
   "metadata": {},
   "outputs": [],
   "source": [
    "import pandas as pd"
   ]
  },
  {
   "cell_type": "code",
   "execution_count": null,
   "metadata": {},
   "outputs": [],
   "source": [
    "import pandas as pd\n",
    "top_comments_list = dict()\n",
    "to_scan = [file for file in get_all_in_dir(\"results/1st_level_2\")]\n",
    "to_avoid= [file.split('\\\\')[1] for file in get_all_in_dir(\"results/1st_level\")]\n",
    "to_avoid.extend(file.split('\\\\')[1] for file in get_all_in_dir(\"results/1st_level_2\"))\n",
    "to_avoid.extend(file.split('\\\\')[1] for file in get_all_in_dir(\"results/2nd_level\"))\n",
    "\n",
    "for subr in to_scan:\n",
    "        id_to_analyse = []\n",
    "        print(f'now opening {subr}')\n",
    "        try:\n",
    "                df1 = pd.read_csv(subr)\n",
    "        except:\n",
    "                pass\n",
    "        try:\n",
    "                df1 = pd.read_csv(subr, encoding='utf8')\n",
    "        except:\n",
    "                print(f'unable to open {subr}')\n",
    "                continue\n",
    "        for column in df1.columns:\n",
    "                try: \n",
    "                        value = df1[column][1][1:-1]\n",
    "                except:\n",
    "                        continue\n",
    "                if int(value) >= 5:\n",
    "                        ind = column.index('/r/')\n",
    "                        id = column[ind+3:]\n",
    "                        if not id + '.csv' in to_avoid:\n",
    "                                try:\n",
    "                                        post_list=list()\n",
    "                                        subreddit_list = list()\n",
    "                                        conspiracy_dict=dict() \n",
    "                                        for i in reddit.subreddit(id).top(limit=500):\n",
    "                                                post_list.append((i.title, i.score, i.url))\n",
    "\n",
    "                                        for post in post_list:\n",
    "                                                for repost in reddit.subreddit('all').search('url:'+post[2]):\n",
    "                                                        if repost.subreddit_id != \"t5_\"+reddit.subreddit(id).id: #cosa facciamo?\n",
    "                                                                subreddit_url = str(repost.subreddit)\n",
    "                                                                subreddit_url = \"https://www.reddit.com/r/\" + subreddit_url\n",
    "                                                        else:\n",
    "                                                                continue\n",
    "                                                        if subreddit_url in conspiracy_dict.keys():\n",
    "                                                                conspiracy_dict[subreddit_url][0].append(\"https://www.reddit.com\"+repost.permalink)\n",
    "                                                                conspiracy_dict[subreddit_url][1][0] +=1\n",
    "                                                        else:\n",
    "                                                                conspiracy_dict[subreddit_url]=[[],[1]]\n",
    "                                                                conspiracy_dict[subreddit_url][0].append(\"https://www.reddit.com\"+repost.permalink)\n",
    "                                        \n",
    "                                        df = pd.DataFrame(conspiracy_dict)\n",
    "                                        df.to_csv(r'results/2nd_level/'+id+'.csv')\n",
    "                                        with open(\"results/2nd_level/done_2.txt\",'a', encoding = \"utf-8\") as text_note:\n",
    "                                                text_note.write(id + \"\\n\")\n",
    "                                                text_note.close()\n",
    "                                        \n",
    "                                except Exception as E:\n",
    "                                        print(E)\n",
    "                                        with open(\"results/2nd_level/error_2.txt\",'a', encoding = \"utf-8\") as text_note:\n",
    "                                                text_note.write(id + \"\\n\")\n",
    "                                                text_note.close()\n",
    "                                "
   ]
  },
  {
   "cell_type": "markdown",
   "metadata": {},
   "source": [
    "## Cleaning the data\n",
    "In order to perform more efficiently the operations of data representation we decided two perform two operations:\n",
    "1. We turned the number of crossposts into integers.\n",
    "2. We removed subreddits with less than 5 posts in common.\n",
    "These was in order to have cleaner and more usable data."
   ]
  },
  {
   "cell_type": "code",
   "execution_count": null,
   "metadata": {},
   "outputs": [],
   "source": [
    "#removing parentheses and connections with less than 5 reposts\n",
    "import pandas as pd\n",
    "datasets= [file for file in get_all_in_dir(\"results/1st_level\")]\n",
    "datasets.extend(file for file in get_all_in_dir(\"results/1st_level_2\"))\n",
    "datasets.extend(file for file in get_all_in_dir(\"results/2nd_level\"))\n",
    "datasets.extend(\"results/conspiracy_data/conspiracy_top_url.csv\")\n",
    "\n",
    "for file in datasets:\n",
    "    try:\n",
    "        df = pd.read_csv(file, sep=',', on_bad_lines='skip', encoding='utf8')\n",
    "    except:\n",
    "        pass\n",
    "    try:\n",
    "        df = pd.read_csv(file, on_bad_lines='skip', encoding='latin')\n",
    "    except Exception as e:\n",
    "        print(e)\n",
    "        print(file, 'has problems in formatting')\n",
    "        continue\n",
    "    for col in df.columns:\n",
    "        if \"u/\" in col or 'u_' in col: #Sometimes users end up in the columns. Remove them. \n",
    "            df.drop(col, inplace=True, axis=1)\n",
    "        else:\n",
    "            try:\n",
    "                \n",
    "               if isinstance(df[col][1], str): \n",
    "                    try:\n",
    "                        df[col][1]=int(df[col][1][1:-1])\n",
    "                    except:\n",
    "                        continue\n",
    "                    if df[col][1]<5:\n",
    "                        df.drop(col, inplace=True, axis=1)\n",
    "            except:\n",
    "                df.drop(col, inplace=True, axis=1)\n",
    "    df.to_csv(file, encoding=\"utf8\")\n",
    "        "
   ]
  },
  {
   "cell_type": "markdown",
   "metadata": {},
   "source": [
    "Given the data from Reddit, we can build a network of shared posts."
   ]
  },
  {
   "cell_type": "markdown",
   "metadata": {},
   "source": [
    "### Building the Network of crossposts\n",
    "By using Gephi, we plotted the network of crosspost. By doing this, we found some communities of subreddits that present a significant number of crossposts.\n",
    "1. <b>Crypto, Tech and other news</b>, with a part dedicated to tech (BitcoinAll, Mistifront, Libertarian, Technews and brprogramming) and another about politics and conspiracies (conspiracy, politics...).\n",
    "2. <b>MetaReddit</b>, subreddits that share a meta-reddit approach (e.g. bots collecting stories from everywhere or comments about reddit), that are also very interlinked with generalist subreddits (such as r/pics). Among these are mistyfront, SubredditNN, Blackout2015. This is very intelinked with tech and general politics.  \n",
    "3. <b>Politics/News</b> with various news and political subreddits, from either party or with no party affiliation, but also with a significant conspiracy news subgroups. Among these are anythingGoesNews, ConspiracyII, Coronavirus, infrasociology\n",
    "4. <b>Leftist Politics</b> centred around WayOfTheBern, LateStageCapitalism, SocialismAndVeganism, but also TrueReddit.\n",
    "5. <b>Bernie Sanders</b> - Started from StillSandersForPresident, WayOfTheBern, RealBlueMidterm (central to other minor subreddits) A significant group of subreddits all sharing the topic of popularising the figure of Bernie Sanders. The main gateways seem to be NEwYorkSanders,FLoridaforSanders ad CaliforniaFOrSanders.\n",
    "6. <b>Conservative/Libertarian</b> subreddits from the right and alt-right, with Conservative, Libertarian, Descent into tyranny but also  news sources such as Worldpolitics and alternative news subreddits such as Censorship \n",
    "7. <b>Science and Pseudoscience</b>, subreddits discussing both scientific news(environment, AutoNewspaper), views of the future(futurology) but also pseudoscience (ScienceUncensored, DebateVaccines)\n",
    "8. <b>Information</b> a subnetwork connected both to general information subreddits (todayilearned) and classified."
   ]
  },
  {
   "cell_type": "code",
   "execution_count": null,
   "metadata": {},
   "outputs": [],
   "source": [
    "#Build the network\n",
    "datasets= [file for file in get_all_in_dir(\"results/1st_level\")]\n",
    "datasets.extend(file for file in get_all_in_dir(\"results/1st_level_2\"))\n",
    "datasets.extend(file for file in get_all_in_dir(\"results/2nd_level\"))\n",
    "\n",
    "network_list = list()\n",
    "\n",
    "for subr in datasets:\n",
    "        #print(f'now opening {subr}')\n",
    "        try:\n",
    "                df1 = pd.read_csv(subr)\n",
    "        except:\n",
    "                pass\n",
    "        try:\n",
    "                df1 = pd.read_csv(subr, encoding='utf8')\n",
    "        except:\n",
    "                print(f'unable to open {subr}')\n",
    "                continue\n",
    "        sub_name=subr[subr.find(\"\\\\\")+1:-4]\n",
    "        for column in df1.columns:\n",
    "                try: \n",
    "                        value = column\n",
    "                except:\n",
    "                        continue\n",
    "                if column [:7] != \"Unnamed\":\n",
    "                        col_name = column[column.find(\"/r/\")+3:]\n",
    "                        try:\n",
    "                                network_list.append((sub_name, col_name, df1[column][1]))\n",
    "                        except Exception as E:\n",
    "                                print(E) \n",
    "                else: \n",
    "                        continue\n",
    "print(network_list)\n",
    "\n",
    "'''' with open('Network.csv', 'w') as f:\n",
    "      \n",
    "    # using csv.writer method from CSV package\n",
    "    write = csv.writer(f)\n",
    "      \n",
    "    write.writerow([\"Source\", \"Target\", \"Weight\"])\n",
    "    write.writerows(network_list)'''"
   ]
  },
  {
   "cell_type": "markdown",
   "metadata": {},
   "source": [
    "# QUI DOBBIAMO RIVEDERE L'ORGANIZZAZIONE; deve esserci un csv che contiene i post in comune tra csv1 e csv2, dicendo da dove arrivano. Questo ci permetterà di confrontare i risultanti.\n",
    "## Analysing the comments\n",
    "A part of our inquiry involves the kind of language that redditors use on the website in response to posts. In order to this, we employed two techniques that allow us to find out the nature of a text: Topic Modelling and Sentiment Analysis\n",
    "\n",
    "### Topic modelling\n",
    "Topic modelling is a machine learning technique that tries to predict the distribution of abstract topics in a text, and thus reveal the hidden semantic structures within it. In particular, we used Latent Dirichlet Allocation (LDA) method. We adapted the method used in [here](https://www.machinelearningplus.com/nlp/topic-modeling-gensim-python/#1introduction).\n",
    "The libraries used are <code>[nltk](https://www.nltk.org/), [gensim](https://github.com/RaRe-Technologies/gensim/), [spacy](https://spacy.io/), [pyLDAvis](https://pyldavis.readthedocs.io/en/latest/readme.html)</code>."
   ]
  },
  {
   "cell_type": "code",
   "execution_count": null,
   "metadata": {},
   "outputs": [],
   "source": [
    "#!pip install nltk\n",
    "#!pip install gensim\n",
    "#!pip install spacy\n",
    "#!pip install pyLDAvis\n",
    "import nltk\n",
    "nltk.download('stopwords')\n",
    "# NLTK Stop words\n",
    "from nltk.corpus import stopwords\n",
    "stop_words = stopwords.words('english')\n",
    "stop_words.extend(['re', 'edit']) \n",
    "\n",
    "import re\n",
    "import os\n",
    "import numpy as np\n",
    "import pandas as pd\n",
    "from pprint import pprint\n",
    "\n",
    "# Gensim\n",
    "import gensim\n",
    "import gensim.corpora as corpora\n",
    "from gensim.utils import simple_preprocess\n",
    "from gensim.models import CoherenceModel\n",
    "\n",
    "# spacy for lemmatization\n",
    "import spacy\n",
    "# Plotting tools\n",
    "import pyLDAvis\n",
    "import pyLDAvis.gensim_models as genmodels  # don't skip this\n",
    "import matplotlib.pyplot as plt\n",
    "\n",
    "import warnings\n",
    "#python -m spacy download en_core_web_sm\n",
    "warnings.filterwarnings(\"ignore\",category=DeprecationWarning)"
   ]
  },
  {
   "cell_type": "markdown",
   "metadata": {},
   "source": [
    "Since the number of comments can be particularly big, we used this code snippet to get a random sample from bigger comment sections."
   ]
  },
  {
   "cell_type": "code",
   "execution_count": null,
   "metadata": {},
   "outputs": [],
   "source": [
    "import random\n",
    "def iterSample(iterable, samplesize):\n",
    "    results = []\n",
    "    for i, v in enumerate(iterable):\n",
    "        r = random.randint(0, i)\n",
    "        if r < samplesize:\n",
    "            if i < samplesize:\n",
    "                results.insert(r, v) # add first samplesize items in random order\n",
    "            else:\n",
    "                results[r] = v # at a decreasing rate, replace random items\n",
    "\n",
    "\n",
    "    return results"
   ]
  },
  {
   "cell_type": "markdown",
   "metadata": {},
   "source": [
    "Here we import the dataset and the comments from the posts in common between subreddits."
   ]
  },
  {
   "cell_type": "code",
   "execution_count": null,
   "metadata": {},
   "outputs": [],
   "source": [
    "import pandas as pd\n",
    "import re\n",
    "to_scan= [file for file in get_all_in_dir(\"results/subnetworks\")]\n",
    "for subreddit in to_scan:\n",
    "        comment_dict = dict()\n",
    "        print('Opening', subreddit)\n",
    "        try: \n",
    "\n",
    "                df = pd.read_csv(subreddit, encoding='utf8', on_bad_lines='skip')\n",
    "                \n",
    "                if os.path.isfile('comments_'+subreddit.split('\\\\')[1]):\n",
    "                        start = (pd.read_csv('comments_'+subreddit.split('\\\\')[1])['Source'].iloc[-1], pd.read_csv('comments_'+subreddit.split('\\\\')[1])['Target'].iloc[-1])\n",
    "                        start= int(df.loc[(df['Source'] == start[0]) & (df['Target'] == start[1])].index[0])\n",
    "                        if start >= len(df):\n",
    "                                continue        \n",
    "                        df = df[start+1:].dropna()\n",
    "        except Exception as e:\n",
    "               print('error',e,subreddit)\n",
    "               continue\n",
    "                \n",
    "        for row in df.to_dict(orient='records'):\n",
    "                if isinstance(row['Source'], float) or isinstance(row['Target'],float):\n",
    "                        continue\n",
    "                if 'https' in row['Source'] or 'https' in row['Target']:\n",
    "                        continue\n",
    "                try:\n",
    "                        list_post= row['Posts'][1:-1].split(',')\n",
    "                except Exception as e:\n",
    "                        continue\n",
    "                result = ''\n",
    "                num = 0\n",
    "                for post_url in list_post:\n",
    "                        if post_url == 0:\n",
    "                                continue\n",
    "                        post_url = post_url.replace(' ','')\n",
    "                        #tmp =  re.sub(\"\\[\\]\\'\", \"\", post_url) NON FUNZIONA E NON CAPISCO PERCHé\n",
    "                        if post_url[1:-1] in comment_dict.keys():\n",
    "                                result += comment_dict[post_url[1:-1]][0]\n",
    "                                num += comment_dict[post_url[1:-1]][1]\n",
    "                                continue\n",
    "                        try:\n",
    "                                post = reddit.submission(url=post_url[1:-1])\n",
    "                                try:\n",
    "                                        #This allows up to 1 reply to each post.\n",
    "                                        post.comments.replace_more(limit=1)\n",
    "                                except Exception as e:\n",
    "                                        print(e)\n",
    "                                        print(f'{post}s comments was not accessible')\n",
    "                                        continue\n",
    "                                num += len(post.comments)\n",
    "                                this_comment = ''\n",
    "                                if num > 500:\n",
    "                                        for comment in iterSample(post.comments, 500):\n",
    "                                                try:\n",
    "                                                        this_comment += comment.body\n",
    "                                                        for reply in comment.replies:\n",
    "                                                                this_comment+= reply.body\n",
    "                                                        this_comment=this_comment.replace(',','')\n",
    "                                                        this_comment=this_comment.replace('\\n','\\s')\n",
    "                                                except Exception as e:\n",
    "                                                        print(e)\n",
    "                                                        continue\n",
    "                                else:\n",
    "                                        for comment in post.comments:\n",
    "                                                try:\n",
    "                                                        this_comment += comment.body\n",
    "                                                        for reply in comment.replies:\n",
    "                                                                this_comment+= reply.body\n",
    "                                                        this_comment=this_comment.replace(',','')\n",
    "                                                        this_comment=this_comment.replace('\\n','\\s')\n",
    "\n",
    "                                                except Exception as e:\n",
    "                                                        print(e)\n",
    "                                                        continue\n",
    "                                comment_dict[post_url[1:-1]] = (this_comment,num)\n",
    "                                result += this_comment\n",
    "                        except Exception as e:\n",
    "                                print(e)\n",
    "                                print(post.permalink + ' is not accessible')\n",
    "                                continue                                         \n",
    "                res=pd.DataFrame.from_dict([{'Source':row['Source'], 'Target':row['Target'],'NumberComments': num,'Comments':result}])\n",
    "                if os.path.isfile('comments_'+subreddit.split('\\\\')[1]):\n",
    "                        res.to_csv('comments_'+subreddit.split('\\\\')[1],  encoding='utf8', mode='a', header=False)\n",
    "                else:\n",
    "                        res.to_csv('comments_'+subreddit.split('\\\\')[1],  encoding='utf8')\n",
    "                        \n",
    "        print(subreddit, ' is finished')\n",
    "                        \n",
    "                        "
   ]
  },
  {
   "cell_type": "markdown",
   "metadata": {},
   "source": [
    "We can now perform the topic modeling: first we need to define the functions."
   ]
  },
  {
   "cell_type": "code",
   "execution_count": null,
   "metadata": {},
   "outputs": [],
   "source": [
    "def sent_to_words(sentences):\n",
    "    for sentence in sentences:\n",
    "        yield(gensim.utils.simple_preprocess(str(sentence), deacc=True))  # deacc=True removes punctuations\n",
    "\n",
    "# Define functions for stopwords, bigrams, trigrams and lemmatization\n",
    "def remove_stopwords(texts):\n",
    "    return [[word for word in simple_preprocess(str(doc)) if word not in stop_words] for doc in texts]\n",
    "\n",
    "def make_bigrams(texts):\n",
    "    return [bigram_mod[doc] for doc in texts]\n",
    "\n",
    "def make_trigrams(texts):\n",
    "    return [trigram_mod[bigram_mod[doc]] for doc in texts]\n",
    "\n",
    "def lemmatization(texts, allowed_postags=['NOUN', 'ADJ', 'VERB', 'ADV']):\n",
    "    \"\"\"https://spacy.io/api/annotation\"\"\"\n",
    "    texts_out = []\n",
    "    for sent in texts:\n",
    "        doc = nlp(\" \".join(sent)) \n",
    "        texts_out.append([token.lemma_ for token in doc if token.pos_ in allowed_postags])\n",
    "    return texts_out\n"
   ]
  },
  {
   "cell_type": "markdown",
   "metadata": {},
   "source": [
    "We can now print a csv for each crossposting between subreddits with the topic modeling of the common posts."
   ]
  },
  {
   "cell_type": "code",
   "execution_count": 10,
   "metadata": {},
   "outputs": [],
   "source": [
    "to_scan = [file for file in get_all_in_dir('comments')] #inserire iterazione su tutti i csv\n",
    "to_scan.sort(reverse=True)"
   ]
  },
  {
   "cell_type": "code",
   "execution_count": 11,
   "metadata": {},
   "outputs": [],
   "source": [
    "import pandas as pd"
   ]
  },
  {
   "cell_type": "code",
   "execution_count": 43,
   "metadata": {},
   "outputs": [],
   "source": [
    "import re\n",
    "avoid = set()\n",
    "for file in to_scan:\n",
    "    if file in avoid:\n",
    "        continue\n",
    "    df = pd.read_csv(file, encoding='utf8')\n",
    "    if any(char.isdigit() for char in file):\n",
    "        filename = file.split('\\\\')[1]\n",
    "        filename = re.sub('\\d|\\.csv', '', filename)\n",
    "        for el in to_scan:\n",
    "            if filename in el:\n",
    "                avoid.add(el)\n",
    "\n",
    "    heat = pd.DataFrame(columns = ['Index'])\n",
    "    targets = set(df['Target'])\n",
    "    to_add = {}\n",
    "    for column in targets:\n",
    "        if 'https' in column or '/' in column:\n",
    "            continue\n",
    "        with_target=df[df['Target']==column]\n",
    "        for row in with_target.to_dict(orient='records'):\n",
    "            to_add = {}\n",
    "            if row['Source'] not in heat['Index'].values:\n",
    "                to_add[column] = row['Comments']\n",
    "                to_add['Index'] = row[\"Source\"] \n",
    "                heat = heat.append(to_add, ignore_index=True)\n",
    "            else:\n",
    "                position = row['Source']\n",
    "                position = heat[heat[\"Index\"]==position].index\n",
    "                heat.at[position, column] = row['Comments']\n",
    "    heat.to_csv('heat\\\\heat_'+file.split('\\\\')[1], encoding='utf8')\n",
    "    break"
   ]
  },
  {
   "cell_type": "code",
   "execution_count": null,
   "metadata": {},
   "outputs": [],
   "source": [
    "# Refactor for\n",
    "for file in to_scan:\n",
    "    df = pd.read_csv(file, encoding='utf8')\n",
    "    origin, id = key.split('@ ')\n",
    "    if '1st_level_2' in origin:\n",
    "        origin = origin.split('1st_level_2')[1]\n",
    "        origin = origin.replace('\\\\','')\n",
    "        origin = origin.replace('.csv','')\n",
    "    if '1st_level' in origin:\n",
    "        origin = origin.split('1st_level')[1]\n",
    "        origin = origin.replace('\\\\','')\n",
    "        origin = origin.replace('.csv','')\n",
    "    if '2nd_level' in origin:\n",
    "        origin = origin.split('2nd_level')[1]\n",
    "        origin = origin.replace('\\\\','')\n",
    "        origin = origin.replace('.csv','')\n",
    "\n",
    "    id=id[id.index('/r/')+3:]\n",
    "    if 'x0' in key:\n",
    "        key = key.replace('x0','')\n",
    "\n",
    "    # Convert to list\n",
    "    data = []\n",
    "    mt = top_comments[key]\n",
    "    if len(mt) > 4:\n",
    "        for i in mt:\n",
    "            data.append(reddit.comment(i))\n",
    "        # Remove tags from comments\n",
    "        try:\n",
    "            data = [re.sub('\\S*@\\S*\\s?', '', sent.body) for sent in data]\n",
    "        except Exception as e:\n",
    "            print(e)\n",
    "            continue\n",
    "\n",
    "        # Remove new line characters\n",
    "        data = [re.sub('\\s+', ' ', sent) for sent in data]\n",
    "\n",
    "        # Remove distracting single quotes\n",
    "        data = [re.sub(\"\\'\", \"\", sent) for sent in data]\n",
    "\n",
    "        # Tokenizing the text\n",
    "        data_words = list(sent_to_words(data))\n",
    "\n",
    "        # Build the bigram and trigram models\n",
    "        bigram = gensim.models.Phrases(data_words, min_count=5, threshold=100) # higher threshold fewer phrases.\n",
    "        trigram = gensim.models.Phrases(bigram[data_words], threshold=100)  \n",
    "\n",
    "        # Faster way to get a sentence clubbed as a trigram/bigram\n",
    "        bigram_mod = gensim.models.phrases.Phraser(bigram)\n",
    "        trigram_mod = gensim.models.phrases.Phraser(trigram)\n",
    "\n",
    "        # Remove Stop Words\n",
    "        data_words_nostops = remove_stopwords(data_words)\n",
    "\n",
    "        # Form Bigrams\n",
    "        data_words_bigrams = make_bigrams(data_words_nostops)\n",
    "\n",
    "        # Initialize spacy 'en' model, keeping only tagger component (for efficiency)\n",
    "        # python3 -m spacy download en\n",
    "        nlp = spacy.load('en_core_web_sm', disable=['parser', 'ner'])\n",
    "\n",
    "        # Do lemmatization keeping only noun, adj, vb, adv\n",
    "        data_lemmatized = lemmatization(data_words_bigrams, allowed_postags=['NOUN', 'ADJ', 'VERB', 'ADV'])\n",
    "\n",
    "        # Create Dictionary\n",
    "        id2word = corpora.Dictionary(data_lemmatized)\n",
    "\n",
    "        # Create Corpus\n",
    "        texts = data_lemmatized\n",
    "\n",
    "        # Term Document Frequency\n",
    "        corpus = [id2word.doc2bow(text) for text in texts]\n",
    "\n",
    "        # Human readable format of corpus (term-frequency)\n",
    "        [[(id2word[id], freq) for id, freq in cp] for cp in corpus[:1]]\n",
    "\n",
    "        if corpus != [] and corpus != [[]]:\n",
    "            # Build LDA model\n",
    "            lda_model = gensim.models.ldamodel.LdaModel(corpus=corpus,\n",
    "                                                    id2word=id2word,\n",
    "                                                    num_topics=10, \n",
    "                                                    random_state=100,\n",
    "                                                    update_every=1,\n",
    "                                                    chunksize=100,\n",
    "                                                    passes=10,\n",
    "                                                    alpha='auto',\n",
    "                                                    per_word_topics=True)\n",
    "\n",
    "            # Print the Keyword in the 10 topics\n",
    "            \n",
    "            index = []\n",
    "            topics = {}\n",
    "            list_topics=lda_model.print_topics()\n",
    "            for i in list_topics:\n",
    "                for value in range(len(list_topics)):\n",
    "                    to_add = []\n",
    "                    for el in list_topics[value][1].split('+'):\n",
    "                        start = el.index('\"')\n",
    "                        word = el[start+1:-2]             \n",
    "                        to_add.append(word)\n",
    "                    topics[value] = to_add\n",
    "\n",
    "            \n",
    "            df_topic = pd.DataFrame(topics)\n",
    "            done = pd.read_csv('done.csv', encoding='utf8')\n",
    "            done.insert(0,key,'NaN')\n",
    "            done.to_csv('done.csv' ,encoding='utf8', mode='w')\n",
    "\n",
    "            for row in df_topic.index:\n",
    "                index.append(origin)\n",
    "            df_topic['origin'] = index\n",
    "            if os.path.isfile(r\"results/topic_models/\"+ id + '.csv'):\n",
    "                df_topic.set_index('origin', inplace=True)\n",
    "                df_topic.to_csv(r\"results/topic_models/\"+ id + '.csv', mode='a', encoding = 'utf8', header=False)\n",
    "            else:\n",
    "                df_topic.set_index('origin', inplace=True)\n",
    "                df_topic.to_csv(r\"results/topic_models/\"+ id + '.csv', encoding = 'utf8')\n",
    "            #pprint(lda_model.print_topics())\n",
    "        else: \n",
    "            print (key + \" is done.\")\n"
   ]
  },
  {
   "cell_type": "markdown",
   "metadata": {},
   "source": [
    "The resulting csv file will contain the topics of crossposts.\n",
    "### Sentiment Analysis\n",
    "Sentiment analysis is the computational study of people's emotions expressed in text. In our case we used the popular VADER sentiment analyser, an analyser especially created for social networks (in particular, it was based off Twitter). The result of each comment's analysis will be a number between -1 and 1, depending on whether the comment is perceived as negative or positive."
   ]
  },
  {
   "cell_type": "code",
   "execution_count": 44,
   "metadata": {},
   "outputs": [],
   "source": [
    "to_sent = [file for file in get_all_in_dir('heat')]\n",
    "to_sent.sort(reverse=True)"
   ]
  },
  {
   "cell_type": "code",
   "execution_count": 27,
   "metadata": {},
   "outputs": [
    {
     "name": "stderr",
     "output_type": "stream",
     "text": [
      "[nltk_data] Downloading package vader_lexicon to C:\\Users\\Giorgia\n",
      "[nltk_data]     Sampo\\AppData\\Roaming\\nltk_data...\n",
      "[nltk_data]   Package vader_lexicon is already up-to-date!\n"
     ]
    }
   ],
   "source": [
    "import nltk \n",
    "nltk.download(\"vader_lexicon\")\n",
    "from nltk.sentiment.vader import SentimentIntensityAnalyzer\n",
    "sent = SentimentIntensityAnalyzer()\n"
   ]
  },
  {
   "cell_type": "code",
   "execution_count": 52,
   "metadata": {},
   "outputs": [],
   "source": [
    "import numpy as np\n",
    "for file in to_sent:\n",
    "    df = pd.read_csv(file, encoding = 'utf8').dropna(how='all')\n",
    "    df=df.set_index(\"Index\")\n",
    "    iterator = df.to_dict(orient='index')\n",
    "    for sub in iterator.keys():\n",
    "        for key in iterator[sub].keys():\n",
    "            if isinstance(iterator[sub][key], str):\n",
    "                df.at[sub, key] = sent.polarity_scores(iterator[sub][key])['compound']\n",
    "    df.to_csv('map' + file.split('\\\\')[1], encoding='utf8')\n"
   ]
  },
  {
   "cell_type": "code",
   "execution_count": 55,
   "metadata": {},
   "outputs": [
    {
     "data": {
      "image/png": "[encoded data removed]",
      "text/plain": [
       "<Figure size 432x288 with 2 Axes>"
      ]
     },
     "metadata": {
      "needs_background": "light"
     },
     "output_type": "display_data"
    }
   ],
   "source": [
    "import seaborn as sns\n",
    "import  matplotlib.pyplot as plt\n",
    "import pandas as pd\n",
    "df = pd.read_csv('mapheat_comments_science_pseudoscience.csv').drop('Unnamed: 0', axis= 1)\n",
    "df = df.set_index('Index')\n",
    "sns.heatmap(df[1:])\n",
    "plt.savefig('heatmap.jpg')\n",
    "plt.show()\n"
   ]
  },
  {
   "cell_type": "markdown",
   "metadata": {},
   "source": [
    "# Per plottare con pandas etc: inverti colonna, rendi int, droppa colonne inutili, and go."
   ]
  },
  {
   "cell_type": "markdown",
   "metadata": {},
   "source": [
    "[vedi qui](https://stackabuse.com/rotate-axis-labels-in-matplotlib/)"
   ]
  },
  {
   "cell_type": "code",
   "execution_count": null,
   "metadata": {},
   "outputs": [],
   "source": [
    "import pandas as pd\n",
    "import seaborn as sns\n",
    "import matplotlib.pyplot as plt"
   ]
  },
  {
   "cell_type": "code",
   "execution_count": null,
   "metadata": {},
   "outputs": [],
   "source": [
    "consp = pd.read_csv('results/1st_level/conspiracy.csv', encoding = 'utf8')\n",
    "consp = consp.drop('Unnamed: 0', axis=1)\n",
    "consp = consp.drop('Unnamed: 0.1', axis=1)\n",
    "consp = consp.drop('Unnamed: 0.0.1', axis=1)\n",
    "\n",
    "consp = consp.transpose()\n",
    "consp= consp.drop(0, axis=1)\n",
    "consp = consp.rename({1:'crossposts'}, axis=1)\n",
    "consp = consp.astype(int)\n",
    "consp = consp.sort_values('crossposts', ascending=False)"
   ]
  },
  {
   "cell_type": "code",
   "execution_count": null,
   "metadata": {},
   "outputs": [],
   "source": [
    "sns.barplot(y=consp.crossposts,x=consp.index)\n",
    "plt.xticks(rotation = 90) # Rotates X-Axis Ticks by 45-degrees\n",
    "plt.show()"
   ]
  }
 ],
 "metadata": {
  "interpreter": {
   "hash": "d65f8af9b1347936d5c0a715a1a101b7602968bee42a1bc2161adfc924f1cbb0"
  },
  "kernelspec": {
   "display_name": "Python 3.9.9 64-bit",
   "language": "python",
   "name": "python3"
  },
  "language_info": {
   "codemirror_mode": {
    "name": "ipython",
    "version": 3
   },
   "file_extension": ".py",
   "mimetype": "text/x-python",
   "name": "python",
   "nbconvert_exporter": "python",
   "pygments_lexer": "ipython3",
   "version": "3.9.12"
  },
  "orig_nbformat": 4
 },
 "nbformat": 4,
 "nbformat_minor": 2
}
