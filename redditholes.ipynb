{
 "cells": [
  {
   "cell_type": "markdown",
   "metadata": {},
   "source": [
    "# RedditHoles - A study in  internet Rabbit Holes\n",
    "\n",
    "## An introduction to Reddit\n",
    "\n",
    "Reddit is a social media platform organised in communities, rather than individual connections. This makes the experience on the platform quite different from other Social Networks and closer, in a way, to the one of forums.  \n",
    "\n",
    "### u/User\n",
    "A user (also called redditor, usually referred as “u/” followed by the username) can make a post (also called a submission); posts (also called submissions) can be links, videos, pictures, polls or text. The OP (Original Poster) as well as other users can comment and vote (either upvote or downvote) the post if they find it interesting (so it’s not exactly like like/dislike features of other Social Networks). Finally, users can give posts awards by paying for reddit coins; these recognise the contributions of a post or comment. There are hundreds of these, from a generic gold or silver award to some following internet lingo, such as the “F” award (used ironically to ‘pay respect’). \n",
    "\n",
    "Users can mark their posts as spoilers and multiple types of flairs and markings such as OC (Original Content), Spoilers, +18 and so on. Some subreddits might have rules for posting. \n",
    "\n",
    "Users can be humans or bots. Bots have multiple uses, from auto moderation, to answering with quotes from movies and books, waving flags to other utilities and fun uses. \n",
    "#### The average redditor\n",
    "\n",
    "Reddit users, according to [data from the site itself](https://www.redditinc.com/advertising/audience), are more than 50 million with more than 100 thousand communities. They are mostly male (56%) and have between 18 and 34 year old (58%). \n",
    "\n",
    "### r/Subreddits\n",
    "\n",
    "Reddit is structured in subreddits, communities that group in various ways the interested users. Subreddits can vary from cute pets, to political parties, to recipe advice. Subreddits are usually referred to as “r/” followed by the name of the subreddits (in our case, we will study “r/conspiracy” and related subreddits). \n",
    "\n",
    "Subreddits can vary significantly. They can have rules for posting, different levels of moderation and bot acceptance, all depending from the nature of the subreddit. Rules of subreddits can have different nature; some subreddits may require the content of a post to be marked, some require sources to be linked, some can have no rules at all. This ambiguity makes Reddit a much more decentralised and open Social Network in which some of the cut down on fake news and trolls which happened on sites such as Facebook or Twitter has not yet happened at the same level. \n",
    "\n"
   ]
  },
  {
   "cell_type": "markdown",
   "metadata": {},
   "source": [
    "## Accessing Reddit Data\n",
    "In order to access data from the Reddit API, we used the [`praw` python library](https://github.com/praw-dev/praw). \n",
    "In order to use that, we need:\n",
    "- a Reddit account.\n",
    "- a Reddit app ([here](https://www.reddit.com/prefs/apps) you can create one). Here you'll find the client id under the app name once you create it, as well as the client secret and the user agent, which is your app name.\n",
    "\n",
    "Once we have those, we can access reddit from the python terminal by creating a reddit instance in praw (it is also possible to access as a user by adding username and account if you want to use it in write mode)."
   ]
  },
  {
   "cell_type": "code",
   "execution_count": null,
   "metadata": {},
   "outputs": [],
   "source": [
    "#!pip install praw\n",
    "#!pip install pandas\n",
    "import praw\n",
    "reddit = praw.Reddit(client_id = \"CMO4Nf8Dpd3YE_lftmqnHg\", client_secret= \"79YxaeUzQYqtVpvev6SbWbCMvF70-g\", user_agent= \"little_digging\")"
   ]
  },
  {
   "cell_type": "markdown",
   "metadata": {},
   "source": [
    "Now we can access information about subreddits, posts and users. As an example, we can access the top 5 posts of all time on Reddit, with the information about the author and the upvote ratio and datat:"
   ]
  },
  {
   "cell_type": "code",
   "execution_count": null,
   "metadata": {},
   "outputs": [],
   "source": [
    "for i in reddit.subreddit('all').top(limit=5): #this will print the top posts all time\n",
    "    print(i.title + ' Author: ' + i.author.name +  ' Link: https://www.reddit.com' + i.permalink + ' Subreddit: r/' + i.subreddit.display_name + ' Upvote Ratio: ' + str(i.upvote_ratio) + ' Date (UTC Format): '+str(i.created_utc))"
   ]
  },
  {
   "cell_type": "markdown",
   "metadata": {},
   "source": [
    "## Scraping Reddit, starting from r/conspiracy\n",
    "\n",
    "Our objective is to watch how a piece of news or a post is shared between different subreddits. While most social network would measure shares of a post, Reddit is built in a way that if a link is shared in the platform, it is possible to retrieve how much the original link is shared through subreddits. As an example, if an image from imgur is shared, we can use its url to search for the same object on Reddit.\n",
    "This happens because, for the most part, Reddit is used to comment news and multimedia in communities, which often present a common worldview (e.g. subbreddits made by people with same political views).\n",
    "We started with the [r/conspiracy](https://www.reddit.com/r/conspiracy/)'s posts, in particular the top 5000 posts all time. We opted for the top posts all time because the other types of ranking are time-bound and we wanted to watch the overall transmission of posts."
   ]
  },
  {
   "cell_type": "code",
   "execution_count": null,
   "metadata": {},
   "outputs": [],
   "source": [
    "import pandas as pd\n",
    "post_list=list()\n",
    "subreddit_list = list()\n",
    "conspiracy_dict=dict()\n",
    "\n",
    "for i in reddit.subreddit(\"conspiracy\").top(limit=5000): \n",
    "    post_list.append(i.url) # This may seem counterintuitive, but in praw's terms this is the original link of the resource inside the post.\n",
    "\n",
    "\n",
    "for post in post_list:\n",
    "    for repost in reddit.subreddit('all').search('url:'+post): # This function searches for the original post's element\n",
    "        subreddit_url = str(repost.subreddit)\n",
    "        subreddit_url = \"https://www.reddit.com/r/\" + subreddit_url\n",
    "        if subreddit_url in conspiracy_dict.keys():\n",
    "            conspiracy_dict[subreddit_url][0].append(\"https://www.reddit.com\"+repost.permalink)\n",
    "            conspiracy_dict[subreddit_url][1][0] +=1\n",
    "        else:\n",
    "            conspiracy_dict[subreddit_url]=[[],[1]]\n",
    "            conspiracy_dict[subreddit_url][0].append(\"https://www.reddit.com\"+repost.permalink)\n",
    "            \n",
    "                \n",
    "\n",
    "\n",
    "df = pd.DataFrame(conspiracy_dict)\n",
    "df.to_csv(r'results/conspiracy_data/conspiracy.csv',index=False)\n",
    "\n",
    "\n"
   ]
  },
  {
   "cell_type": "markdown",
   "metadata": {},
   "source": [
    "We realised after the fact that this method also got the reposts inside the same subreddit. After manually cleaning the csv in this instance, we proceeded to remove this problem in the following steps."
   ]
  },
  {
   "cell_type": "markdown",
   "metadata": {},
   "source": [
    "### Creating a network of subreddits\n",
    "\n",
    "After scraping r/conspiracy, we moved to the neighbouring subreddits. What this will do is creating a network of shared posts between subreddits.\n",
    "\n",
    "First we need to look at all the files in the directory."
   ]
  },
  {
   "cell_type": "code",
   "execution_count": null,
   "metadata": {},
   "outputs": [],
   "source": [
    "def get_all_in_dir(dir):\n",
    "    for filename in os.listdir(dir):\n",
    "        f = os.path.join(dir, filename)\n",
    "        if os.path.isfile(f) and f[-4:] == \".csv\":\n",
    "            yield f"
   ]
  },
  {
   "cell_type": "markdown",
   "metadata": {},
   "source": [
    "Now we can scrape the other subreddits that had more than 5 posts in common with r/conspiracy."
   ]
  },
  {
   "cell_type": "code",
   "execution_count": null,
   "metadata": {},
   "outputs": [],
   "source": [
    "df1 = pd.read_csv('results/conspiracy_data/conspiracy.csv')\n",
    "id_to_analyse = []\n",
    "for column in df1.columns:\n",
    "    value = df1[column][1][1:-1]\n",
    "    if int(value) >= 5:\n",
    "        ind = column.index('/r/')\n",
    "        id = column[ind+3:]\n",
    "        id_to_analyse.append(id)\n",
    "        \n",
    "\n",
    "for subreddit in id_to_analyse:\n",
    "    post_list=list()\n",
    "    subreddit_list = list()\n",
    "    conspiracy_dict=dict() \n",
    "    for i in reddit.subreddit(subreddit).top(limit=5000):\n",
    "        post_list.append((i.title, i.score, i.url))\n",
    "\n",
    "\n",
    "\n",
    "    for post in post_list:\n",
    "        for repost in reddit.subreddit('all').search('url:'+post[2]):\n",
    "            if repost.subreddit_id != \"t5_\"+reddit.subreddit(subreddit).id: #cosa facciamo?\n",
    "                subreddit_url = str(repost.subreddit)\n",
    "                subreddit_url = \"https://www.reddit.com/r/\" + subreddit_url\n",
    "                if subreddit_url in conspiracy_dict.keys():\n",
    "                    conspiracy_dict[subreddit_url][0].append(\"https://www.reddit.com\"+repost.permalink)\n",
    "                    conspiracy_dict[subreddit_url][1][0] +=1\n",
    "                else:\n",
    "                    conspiracy_dict[subreddit_url]=[[],[1]]\n",
    "                    conspiracy_dict[subreddit_url][0].append(\"https://www.reddit.com\"+repost.permalink)\n",
    "    df = pd.DataFrame(conspiracy_dict)\n",
    "    df.to_csv(r'results/1st_level/'+subreddit+'.csv')"
   ]
  },
  {
   "cell_type": "markdown",
   "metadata": {},
   "source": [
    "We repeat the cycle one more time, but this time with just the top 500 posts, in order to speed up the process."
   ]
  },
  {
   "cell_type": "code",
   "execution_count": null,
   "metadata": {},
   "outputs": [],
   "source": [
    "import pandas as pd\n",
    "top_comments_list = dict()\n",
    "to_scan = [file for file in get_all_in_dir(\"results/1st_level_2\")]\n",
    "to_avoid= [file.split('\\\\')[1] for file in get_all_in_dir(\"results/1st_level\")]\n",
    "to_avoid.extend(file.split('\\\\')[1] for file in get_all_in_dir(\"results/1st_level_2\"))\n",
    "to_avoid.extend(file.split('\\\\')[1] for file in get_all_in_dir(\"results/2nd_level\"))\n",
    "\n",
    "for subr in to_scan:\n",
    "        id_to_analyse = []\n",
    "        print(f'now opening {subr}')\n",
    "        try:\n",
    "                df1 = pd.read_csv(subr)\n",
    "        except:\n",
    "                pass\n",
    "        try:\n",
    "                df1 = pd.read_csv(subr, encoding='utf8')\n",
    "        except:\n",
    "                print(f'unable to open {subr}')\n",
    "                continue\n",
    "        for column in df1.columns:\n",
    "                try: \n",
    "                        value = df1[column][1][1:-1]\n",
    "                except:\n",
    "                        continue\n",
    "                if int(value) >= 5:\n",
    "                        ind = column.index('/r/')\n",
    "                        id = column[ind+3:]\n",
    "                        if not id + '.csv' in to_avoid:\n",
    "                                try:\n",
    "                                        post_list=list()\n",
    "                                        subreddit_list = list()\n",
    "                                        conspiracy_dict=dict() \n",
    "                                        for i in reddit.subreddit(id).top(limit=500):\n",
    "                                                post_list.append((i.title, i.score, i.url))\n",
    "\n",
    "                                        for post in post_list:\n",
    "                                                for repost in reddit.subreddit('all').search('url:'+post[2]):\n",
    "                                                        if repost.subreddit_id != \"t5_\"+reddit.subreddit(id).id: #cosa facciamo?\n",
    "                                                                subreddit_url = str(repost.subreddit)\n",
    "                                                                subreddit_url = \"https://www.reddit.com/r/\" + subreddit_url\n",
    "                                                        else:\n",
    "                                                                continue\n",
    "                                                        if subreddit_url in conspiracy_dict.keys():\n",
    "                                                                conspiracy_dict[subreddit_url][0].append(\"https://www.reddit.com\"+repost.permalink)\n",
    "                                                                conspiracy_dict[subreddit_url][1][0] +=1\n",
    "                                                        else:\n",
    "                                                                conspiracy_dict[subreddit_url]=[[],[1]]\n",
    "                                                                conspiracy_dict[subreddit_url][0].append(\"https://www.reddit.com\"+repost.permalink)\n",
    "                                        \n",
    "                                        df = pd.DataFrame(conspiracy_dict)\n",
    "                                        df.to_csv(r'results/2nd_level/'+id+'.csv')\n",
    "                                        with open(\"results/2nd_level/done_2.txt\",'a', encoding = \"utf-8\") as text_note:\n",
    "                                                text_note.write(id + \"\\n\")\n",
    "                                                text_note.close()\n",
    "                                        \n",
    "                                except Exception as E:\n",
    "                                        print(E)\n",
    "                                        with open(\"results/2nd_level/error_2.txt\",'a', encoding = \"utf-8\") as text_note:\n",
    "                                                text_note.write(id + \"\\n\")\n",
    "                                                text_note.close()\n",
    "                                "
   ]
  },
  {
   "cell_type": "markdown",
   "metadata": {},
   "source": [
    "## Cleaning the data\n",
    "In order to perform more efficiently the operations of data representation we decided two perform two operations:\n",
    "1. We turned the number of crossposts into integers.\n",
    "2. We removed subreddits with less than 5 posts in common.\n",
    "These was in order to have cleaner and more usable data."
   ]
  },
  {
   "cell_type": "code",
   "execution_count": null,
   "metadata": {},
   "outputs": [],
   "source": [
    "#removing parentheses and connections with less than 5 reposts\n",
    "\n",
    "datasets= [file for file in get_all_in_dir(\"results/1st_level\")]\n",
    "datasets.extend(file for file in get_all_in_dir(\"results/1st_level_2\"))\n",
    "datasets.extend(file for file in get_all_in_dir(\"results/2nd_level\"))\n",
    "datasets.extend(\"results/conspiracy_data/conspiracy_top_url.csv\")\n",
    "\n",
    "for file in datasets:\n",
    "    try:\n",
    "        df = pd.read_csv(file, on_bad_lines='skip', encoding='utf8')\n",
    "    except:\n",
    "        pass\n",
    "    try:\n",
    "        df = pd.read_csv(file, on_bad_lines='skip', encoding='latin')\n",
    "    except:\n",
    "        print(file, 'has problems in formatting')\n",
    "        continue\n",
    "    for col in df.columns:\n",
    "        if \"u/\" in col: #Sometimes users end up in the columns. Remove them. \n",
    "            df.drop(col, inplace=True, axis=1)\n",
    "        else:\n",
    "            try:\n",
    "                \n",
    "               if isinstance(df[col][1], str): \n",
    "                    try:\n",
    "                        df[col][1]=int(df[col][1][1:-1])\n",
    "                    except:\n",
    "                        continue\n",
    "                    if df[col][1]<5:\n",
    "                        df.drop(col, inplace=True, axis=1)\n",
    "            except:\n",
    "                df.drop(col, inplace=True, axis=1)\n",
    "    df.to_csv(file, encoding=\"utf8\")\n",
    "        "
   ]
  },
  {
   "cell_type": "markdown",
   "metadata": {},
   "source": [
    "Given the data from Reddit, we can build a network of shared posts."
   ]
  },
  {
   "cell_type": "code",
   "execution_count": null,
   "metadata": {},
   "outputs": [],
   "source": [
    "#Build the network"
   ]
  },
  {
   "cell_type": "markdown",
   "metadata": {},
   "source": [
    "# QUI DOBBIAMO RIVEDERE L'ORGANIZZAZIONE; deve esserci un csv che contiene i post in comune tra csv1 e csv2, dicendo da dove arrivano. Questo ci permetterà di confrontare i risultanti.\n",
    "## Analysing the comments\n",
    "A part of our inquiry involves the kind of language that redditors use on the website in response to posts. In order to this, we employed two techniques that allow us to find out the nature of a text: Topic Modelling and Sentiment Analysis\n",
    "\n",
    "### Topic modelling\n",
    "Topic modelling is a machine learning technique that tries to predict the distribution of abstract topics in a text, and thus reveal the hidden semantic structures within it. In particular, we used Latent Dirichlet Allocation (LDA) method. We adapted the method used in [here]().\n",
    "The libraries used are <code>[nltk](https://www.nltk.org/), [gensim](https://github.com/RaRe-Technologies/gensim/), [spacy](https://spacy.io/), [pyLDAvis](https://pyldavis.readthedocs.io/en/latest/readme.html)</code>."
   ]
  },
  {
   "cell_type": "code",
   "execution_count": null,
   "metadata": {},
   "outputs": [],
   "source": [
    "#!pip install nltk\n",
    "#!pip install gensim\n",
    "#!pip install spacy\n",
    "#!pip install pyLDAvis\n",
    "import nltk\n",
    "nltk.download('stopwords')\n",
    "# NLTK Stop words\n",
    "from nltk.corpus import stopwords\n",
    "stop_words = stopwords.words('english')\n",
    "stop_words.extend(['re', 'edit']) \n",
    "\n",
    "import re\n",
    "import os\n",
    "import numpy as np\n",
    "import pandas as pd\n",
    "from pprint import pprint\n",
    "\n",
    "# Gensim\n",
    "import gensim\n",
    "import gensim.corpora as corpora\n",
    "from gensim.utils import simple_preprocess\n",
    "from gensim.models import CoherenceModel\n",
    "\n",
    "# spacy for lemmatization\n",
    "import spacy\n",
    "# Plotting tools\n",
    "import pyLDAvis\n",
    "import pyLDAvis.gensim_models as genmodels  # don't skip this\n",
    "import matplotlib.pyplot as plt\n",
    "\n",
    "import warnings\n",
    "#python -m spacy download en_core_web_sm\n",
    "warnings.filterwarnings(\"ignore\",category=DeprecationWarning)"
   ]
  },
  {
   "cell_type": "markdown",
   "metadata": {},
   "source": [
    "Since the number of comments can be particularly big, we used this code snippet to get a random sample from bigger comment sections."
   ]
  },
  {
   "cell_type": "code",
   "execution_count": null,
   "metadata": {},
   "outputs": [],
   "source": [
    "import random\n",
    "def iterSample(iterable, samplesize):\n",
    "    results = []\n",
    "    for i, v in enumerate(iterable):\n",
    "        r = random.randint(0, i)\n",
    "        if r < samplesize:\n",
    "            if i < samplesize:\n",
    "                results.insert(r, v) # add first samplesize items in random order\n",
    "            else:\n",
    "                results[r] = v # at a decreasing rate, replace random items\n",
    "\n",
    "    if len(results) < samplesize:\n",
    "        raise ValueError(\"Sample larger than population.\")\n",
    "\n",
    "    return results"
   ]
  },
  {
   "cell_type": "markdown",
   "metadata": {},
   "source": [
    "Here we import the dataset and the comments from the posts in common between subreddits."
   ]
  },
  {
   "cell_type": "code",
   "execution_count": null,
   "metadata": {},
   "outputs": [],
   "source": [
    "# Import Dataset\n",
    "import pandas as pd\n",
    "import re\n",
    "to_scan= [file for file in get_all_in_dir(\"results/1st_level\")]\n",
    "to_scan.extend(file for file in get_all_in_dir(\"results/1st_level_2\"))\n",
    "to_scan.extend(file for file in get_all_in_dir(\"results/2nd_level\"))\n",
    "top_comments_list = dict()\n",
    "for subreddit in to_scan:\n",
    "        try: \n",
    "                df = pd.read_csv(subreddit, sep=',', encoding='utf8', on_bad_lines='skip')\n",
    "        except:\n",
    "                print(subreddit + ' is a bad boy')\n",
    "        done = pd.read_csv('done.csv', keep_default_na=False, na_values=[\"\"])\n",
    "                \n",
    "        done_col = set(done.columns)\n",
    "        cols = set(df.columns[1:])\n",
    "        cols = cols.difference(done_col)\n",
    "        for column in cols: # qui inserire un loop sui permalink\n",
    "                if column not in done_col and 'Unnamed' not in column:\n",
    "                        \n",
    "                        len_col = len(done_col)\n",
    "                        list_post=[]\n",
    "                        list_post= df[column][0].split(',')\n",
    "                        name= subreddit + \" @ \" + column\n",
    "                        for post_url in list_post:\n",
    "                                if post_url == 0:\n",
    "                                        continue\n",
    "                        \n",
    "                                #tmp =  re.sub(\"\\[\\]\\'\", \"\", post_url) NON FUNZIONA E NON CAPISCO PERCHé\n",
    "                                if '[' in post_url:\n",
    "                                        post_url = post_url.replace('[','')\n",
    "                                if ']' in post_url:\n",
    "                                        post_url = post_url.replace(']','')\n",
    "                                try:\n",
    "                                        post = reddit.submission(url=post_url[1:-1])\n",
    "                                except Exception as e: # some posts may be removed\n",
    "                                        continue\n",
    "                                try:\n",
    "                                        #This allows up to 1 reply to each post.\n",
    "                                        post.comments.replace_more(limit=1)\n",
    "                                except Exception as e:\n",
    "                                        print(e)\n",
    "                                        print(f'{post} was not accessible')\n",
    "                                        continue\n",
    "                                result = []\n",
    "                                if len(post.comments)> 500:\n",
    "                                        for comment in iterSample(post.comments, 500):\n",
    "                                                result.append(comment)\n",
    "                                                result.extend(comment.replies.list())\n",
    "                                else:\n",
    "                                        for comment in post.comments:\n",
    "                                                result.append(comment)\n",
    "                                                result.extend(comment.replies.list())\n",
    "\n",
    "                                name= subreddit + \" @ \" + column           \n",
    "\n",
    "\n",
    "\n",
    "                                if name in top_comments_list.keys():\n",
    "                                        top_comments_list[name].extend(result)\n",
    "                                else:\n",
    "                                        top_comments_list[name]=result\n",
    "                        try:\n",
    "                                val = top_comments_list[name]\n",
    "                        except KeyError:\n",
    "                                continue\n",
    "                        res=pd.DataFrame({name:val})\n",
    "                        res.to_csv('comments.csv',mode='a')\n",
    "                        done.insert(0,column,'NaN')\n",
    "                        done.to_csv('done.csv' , mode='w')\n"
   ]
  },
  {
   "cell_type": "code",
   "execution_count": 75,
   "metadata": {},
   "outputs": [
    {
     "name": "stdout",
     "output_type": "stream",
     "text": [
      "  results/1st_leveprogramming.csv @ https://www.reddit.com/r/Android  index  \\\n",
      "0                                                Nan                      NaN   \n",
      "1                                                Nan                      0.0   \n",
      "2                                                Nan                      1.0   \n",
      "3                                                Nan                      2.0   \n",
      "4                                                Nan                      3.0   \n",
      "\n",
      "                                               value  \n",
      "0  results/1st_level\\1984isreality.csv @ https://...  \n",
      "1                                            emn8l28  \n",
      "2                                            emng7xg  \n",
      "3                                            emnoyv0  \n",
      "4                                            emn6lw7  \n"
     ]
    }
   ],
   "source": []
  },
  {
   "cell_type": "code",
   "execution_count": 45,
   "metadata": {},
   "outputs": [],
   "source": [
    "a = [post.comments for post in reddit.subreddit('all').top(limit=1)]"
   ]
  },
  {
   "cell_type": "code",
   "execution_count": 46,
   "metadata": {},
   "outputs": [
    {
     "name": "stdout",
     "output_type": "stream",
     "text": [
      "[<praw.models.comment_forest.CommentForest object at 0x000001B4B4729D90>]\n"
     ]
    }
   ],
   "source": [
    "print(a)"
   ]
  },
  {
   "cell_type": "markdown",
   "metadata": {},
   "source": [
    "We can now perform the topic modeling: first we need to define the functions."
   ]
  },
  {
   "cell_type": "code",
   "execution_count": 47,
   "metadata": {},
   "outputs": [
    {
     "name": "stdout",
     "output_type": "stream",
     "text": [
      "[<MoreComments count=6820, children=['fv6d8u9', 'fv573sy', 'fvm40zn', '...']>, <MoreComments count=4531, children=['fv931mp', 'fv6c0lf', 'fv84t1j', '...']>, <MoreComments count=1929, children=['fv70ruw', 'fv76qrv', 'fv60ff0', '...']>, <MoreComments count=415, children=['fv7ma6b', 'fv98sn9', 'fv839ql', '...']>, <MoreComments count=379, children=['fv9nev7', 'fv7ttz9', 'fv6b4zr', '...']>, <MoreComments count=354, children=['fv785c0', 'g3lrak3', 'fv6tibn', '...']>, <MoreComments count=354, children=['fv76bcw', 'fv75x52', 'fv829bg', '...']>, <MoreComments count=252, children=['fv5tqte', 'fv6w5xl', 'fv7yebw', '...']>, <MoreComments count=153, children=['fvcchs0', 'fvb7ev6', 'fv7ghkz', '...']>, <MoreComments count=142, children=['gdwxk3r', 'fv5ad5a', 'fv8fexk', '...']>, <MoreComments count=140, children=['fv78268', 'fv7olj4', 'fv7tssi', '...']>, <MoreComments count=135, children=['fv78gsh', 'fvpa0w2', 'fv7lxxh', '...']>, <MoreComments count=121, children=['fv87ytf', 'fvit4wk', 'fw5ya8p', '...']>, <MoreComments count=114, children=['fv7zjt0', 'gf32whx', 'g141n9i', '...']>, <MoreComments count=114, children=['fv97qbu', 'fv63z0x', 'fx6xbtk', '...']>, <MoreComments count=87, children=['fv6fugz', 'fv5d4as', 'fvoyxhl', '...']>, <MoreComments count=79, children=['fv6qu82', 'fv7q3r7', 'fv7n45r', '...']>, <MoreComments count=77, children=['fvdc6i3', 'fv7og79', 'fxsbc7c', '...']>, <MoreComments count=72, children=['fv8e51f', 'fvrz6v8', 'g0wvdau', '...']>, <MoreComments count=68, children=['fv8u9vk', 'fv5c4jm', 'fv5jeyt', '...']>, <MoreComments count=66, children=['fxt4r81', 'fv8ogt7', 'fv8dq4k', '...']>, <MoreComments count=55, children=['fvh835x', 'fvd58ne', 'fvx1wqz', '...']>, <MoreComments count=53, children=['fv7nbvk', 'fv7tbpd', 'fv7oc8y', '...']>, <MoreComments count=49, children=['fv9wsu8', 'fvadd8g', 'fvp1rkm', '...']>, <MoreComments count=44, children=['fzg26tc', 'fvfvwci', 'fvcl2lt', '...']>, <MoreComments count=44, children=['fv6wdz6', 'fv5ac6b', 'fv5nemi', '...']>, <MoreComments count=40, children=['fv6dq83', 'fv908as', 'fv6xgue', '...']>, <MoreComments count=36, children=['fv6zoyz', 'fv6d5l4', 'fv5h47f', '...']>, <MoreComments count=36, children=['fv5dulc', 'fv5ikch', 'fv5bt42', '...']>, <MoreComments count=35, children=['fv81pxg', 'fv7g9zb', 'fv74vr5', '...']>, <MoreComments count=32, children=['fv8937p', 'fv98vbj', 'g0vvc47', '...']>, <MoreComments count=32, children=['fvccpq8', 'fv7om3l', 'fv9989w', '...']>, <MoreComments count=31, children=['fv774w4', 'fvd198o', 'fv7r5vw', '...']>, <MoreComments count=31, children=['fv96rq9', 'gf438rm', 'fvsf7vn', '...']>, <MoreComments count=31, children=['fv7gydd', 'fv5qjus', 'fv6ju4h', '...']>, <MoreComments count=31, children=['fv786ip', 'fv5tele', 'fvb4rjf', '...']>, <MoreComments count=31, children=['fv79ytd', 'fv6wjr7', 'gavdkp7', '...']>, <MoreComments count=30, children=['fv5og4g', 'fv5n4ar', 'fv6et8l', '...']>, <MoreComments count=30, children=['fyn0s1s', 'g2x20ed', 'fv6cw7f', '...']>, <MoreComments count=29, children=['fv5cxds', 'fv5i697', 'fv58haj', '...']>, <MoreComments count=29, children=['fv65mrl', 'fv5ke0y', 'fv6aqdo', '...']>, <MoreComments count=27, children=['fv5qh0g', 'fv60935', 'fv5r96r', '...']>, <MoreComments count=26, children=['fv648n6', 'fv5rhno', 'gcw399m', '...']>, <MoreComments count=26, children=['fv81mrn', 'fv57qff', 'fv5yptu', '...']>, <MoreComments count=24, children=['fv8t8bl', 'fv5z0pu', 'fv76k3e', '...']>, <MoreComments count=24, children=['fx6881s', 'fvawrk1', 'gf2w26j', '...']>, <MoreComments count=24, children=['g83hcw0', 'fw22dva', 'fv5u2yu', '...']>, <MoreComments count=24, children=['fv64zb4', 'fv5akxx', 'fv5gjk6', '...']>, <MoreComments count=24, children=['fv7r4c4', 'fvbt7et', 'fv8a2za', '...']>, <MoreComments count=21, children=['fv649cx', 'fv62pvn', 'fv6o8dh', '...']>, <MoreComments count=20, children=['fv8w49t', 'fv8w54y', 'fv8wppf', '...']>, <MoreComments count=20, children=['fv7lvoj', 'g2mtwmh', 'fvsb4tm', '...']>, <MoreComments count=19, children=['fv66p1c', 'fv59veu', 'fvnyluu', '...']>, <MoreComments count=19, children=['fvbu5z8', 'fvbbxeu', 'fvbmey3', '...']>, <MoreComments count=19, children=['fyj8z45', 'fyk7cnf', 'fy2k64v', '...']>, <MoreComments count=19, children=['fv8bwa8', 'fv7akhv', 'fvx1gh3', '...']>, <MoreComments count=19, children=['fv5s2kg', 'fv5z7k0', 'fv61s2r', '...']>, <MoreComments count=18, children=['fv566rc', 'fv56nuo', 'fv7ek6p', 'fv5rcww']>, <MoreComments count=18, children=['fv5xvj4', 'fv7d92j', 'fv5yll2', '...']>, <MoreComments count=17, children=['fvh2vnk', 'fv6lnfm', 'fv8d1j7', '...']>, <MoreComments count=17, children=['fv75kyv', 'fv7ixqr', 'fv7qiz9', '...']>, <MoreComments count=16, children=['ga1qnog', 'fv79p5u', 'fv5whdv', '...']>, <MoreComments count=16, children=['fv8vboh', 'fv8vjfm', 'fv75c03', '...']>, <MoreComments count=15, children=['fv57jc0', 'fv5nlae', 'fv57952', '...']>, <MoreComments count=15, children=['fv5j5z6', 'fv657bw', 'fv5ha7h', '...']>, <MoreComments count=15, children=['fwr7lsw', 'fv7wuw4', 'g1dz7nw', '...']>, <MoreComments count=15, children=['fv7t474', 'fv7ueuc', 'fv7tcll', '...']>, <MoreComments count=15, children=['fv5j16o', 'fv5j88y', 'fv5jnxw', '...']>, <MoreComments count=15, children=['fv762hs', 'fv7h058', 'fv6jhmx', '...']>, <MoreComments count=15, children=['fvb438g', 'fv710qs', 'fv6klty', '...']>, <MoreComments count=14, children=['fv89g5c', 'fv9jmly', 'fv7lm5j', '...']>, <MoreComments count=14, children=['fv7zrk0', 'fv6uvbb', 'fw7r50p', '...']>, <MoreComments count=13, children=['fv67m2p', 'fv5e4ob', 'fv6tndw', '...']>, <MoreComments count=13, children=['gd3ha1s', 'gf3499d', 'fv7gjhe', '...']>, <MoreComments count=13, children=['fv5c5d0', 'fv5aith', 'fv5gokm', '...']>, <MoreComments count=13, children=['fv565k2', 'fv59vfq', 'fv55q6e', '...']>, <MoreComments count=13, children=['fv5682z', 'fv5a8rp', 'fv5z1wp', '...']>, <MoreComments count=12, children=['fv5hpa4']>, <MoreComments count=12, children=['fv6e481', 'fv6wuir', 'fv5yflz', '...']>, <MoreComments count=12, children=['fv57dz1', 'fv6v60e']>, <MoreComments count=12, children=['fv6l061', 'fv6qsg2', 'fv69ezv', 'fv74bhi']>, <MoreComments count=11, children=['fv5ct8h', 'fv5dq3p', 'fv5adhm', '...']>, <MoreComments count=11, children=['gf9czus', 'gfaqkq9', 'gfduko9', '...']>, <MoreComments count=11, children=['gf4fsea', 'fwlmugm', 'fv5894a', '...']>, <MoreComments count=11, children=['fv58gy3', 'fv57hf1']>, <MoreComments count=11, children=['g7xsoe8', 'fvntnrb', 'fv55uo8', '...']>, <MoreComments count=11, children=['fv7svcy', 'fv7sfur', 'fv7qwjr', '...']>, <MoreComments count=11, children=['fv59u2r', 'fv5agvo']>, <MoreComments count=10, children=['fv5oft1', 'fv64fqm', 'gasjrel', '...']>, <MoreComments count=10, children=['fv8oh8h', 'fv5e56v', 'fv624zt', '...']>, <MoreComments count=10, children=['fvj1co4', 'fvhevlz', 'fvh3sbt', '...']>, <MoreComments count=10, children=['fv5ld0j', 'fv6f0uf', 'fv69xhl', '...']>, <MoreComments count=10, children=['fv6p5cz', 'fv64xk4', 'fv5wssq', '...']>, <MoreComments count=10, children=['fv69qjr', 'fv549yg', 'fv5o56y', '...']>, <MoreComments count=10, children=['fv5xhcn']>, <MoreComments count=10, children=['fv9x6o5', 'fv9dwmf', 'fv7h156', '...']>, <MoreComments count=10, children=['fw9qwgy', 'fzlv4md', 'fw9iap7', '...']>, <MoreComments count=9, children=['fv5bg6a', 'fv5rkys', 'fv5jhfv', '...']>, <MoreComments count=9, children=['fvdqdwg', 'fvdxi1t', 'fve2f45', '...']>, <MoreComments count=9, children=['fvayz80', 'fvd7phl', 'g5p5hsk', 'fw6bnbx']>, <MoreComments count=9, children=['fv52kgy', 'fxjuuwv']>, <MoreComments count=8, children=['fv5lyaq', 'fv5t7om', 'fv5nl9l', '...']>, <MoreComments count=8, children=['fv5l7c6', 'fv65x3f', 'fv5hvv3', '...']>, <MoreComments count=8, children=['fv59dxl', 'fv5yevm', 'g28aba4', 'g9a1yvr']>, <MoreComments count=8, children=['gdbg6wy', 'g0owk6c', 'fv62fca', '...']>, <MoreComments count=8, children=['fv5vveo']>, <MoreComments count=8, children=['fv80dx5', 'fv6ogwi', 'fvd3sj0', '...']>, <MoreComments count=7, children=['fv5ga5v', 'fv615fi', 'fv5rzqb', '...']>, <MoreComments count=7, children=['fv5mvu2', 'fv5rui5', 'fv5unbx', '...']>, <MoreComments count=7, children=['fv5mrgg', 'fv5pko1', 'fv5n695', '...']>, <MoreComments count=7, children=['gfdml3t', 'fvhf55x', 'fv77g5q', 'fvkfdgd']>, <MoreComments count=7, children=['fwu14o4', 'fvbzpe0', 'fx2gtqj', '...']>, <MoreComments count=7, children=['fxzm3a9', 'gf460an']>, <MoreComments count=7, children=['fv5uiiw', 'fv5q99o', 'fv5942r', '...']>, <MoreComments count=7, children=['fv55cik']>, <MoreComments count=7, children=['fv6dtkx', 'fv6digb', 'fv6da26', '...']>, <MoreComments count=7, children=['fv5uxns', 'fv5zk3z', 'fv5uup9', 'fv5t019']>, <MoreComments count=7, children=['gbvnab2']>, <MoreComments count=7, children=['fwa6ytt', 'g7z9dsh', 'fwa70v9', 'fwbpa0f']>, <MoreComments count=7, children=['fv5a80r', 'fv5neub']>, <MoreComments count=7, children=['fv8dsw2', 'fvb4q04', 'fv88s1i', '...']>, <MoreComments count=7, children=['fv602qp', 'fv6nhj6', 'fv65d4z', '...']>, <MoreComments count=7, children=['fv5gus8', 'fv6jtve']>, <MoreComments count=7, children=['fv7ulwq', 'fv7uluz', 'fv7v4mq', '...']>, <MoreComments count=7, children=['fv5xrft', 'fv6okyd', 'fvjzudq']>, <MoreComments count=7, children=['fv5vgao', 'fv60fj5', 'fv6lfxo', '...']>, <MoreComments count=7, children=['fv7499i', 'fv6v7pr', 'fv629bm', '...']>, <MoreComments count=7, children=['gb06bxd', 'fv5o5ma', 'fv5tz72', 'fv5td72']>, <MoreComments count=6, children=['fvivgi4', 'fv77bz8', 'gec72vq']>, <MoreComments count=6, children=['fv7wbae']>, <MoreComments count=6, children=['fv680rk', 'fv8nrvu', 'fv67pla', '...']>, <MoreComments count=6, children=['fv59mkh', 'g1eq0d9']>, <MoreComments count=6, children=['fv6atz5', 'fvd03oh', 'fv7q6q1', '...']>, <MoreComments count=6, children=['fv7itog', 'fvdntw1', 'fv65elm', 'fwb5jrf']>, <MoreComments count=6, children=['fvmd4kh', 'fv7khtu']>, <MoreComments count=6, children=['fv6fwwg', 'fvciw3t', 'g7u7icv', 'fv6di67']>, <MoreComments count=6, children=['gfdne8b', 'fv5q35h', 'fv66vtz']>, <MoreComments count=6, children=['fv64g8o', 'fv5mphv', 'fv7m4t0']>, <MoreComments count=6, children=['fv7uilj', 'fv7uj8q', 'fv8itrk', '...']>, <MoreComments count=6, children=['fv6uez9', 'fvdayqb', 'fv6zar9', '...']>, <MoreComments count=6, children=['fv66gx4', 'fv66zg4', 'fv66np9', '...']>, <MoreComments count=6, children=['fv56zkw', 'gffvmhl', 'fv5cefe', 'fv81ual']>, <MoreComments count=6, children=['fv803nl', 'fv5bqya', 'fv5aybo', 'fxjva44']>, <MoreComments count=6, children=['fv5axuj', 'fv5715g']>, <MoreComments count=6, children=['fv6b2zg', 'gdx4gam']>, <MoreComments count=5, children=['fv5u6r3']>, <MoreComments count=5, children=['fv61o7s', 'fv7h5sp', 'fv75x70', 'fv7bpw5']>, <MoreComments count=5, children=['fw3fg7m', 'fv5wt8m', 'fv5fsme']>, <MoreComments count=5, children=['fv72dpl', 'fv76bhe', 'fv4x9wm']>, <MoreComments count=5, children=['fv65xvs', 'fv9n46w']>, <MoreComments count=5, children=['fv7ok44', 'fv77kkc', 'fv7szys', 'fv7x09z']>, <MoreComments count=5, children=['fv626li']>, <MoreComments count=5, children=['fw57cf4', 'g1jgsh4', 'fvedf3h', '...']>, <MoreComments count=5, children=['gf4xcu2', 'gf4cne5', 'gf58sd1', 'gf814z9']>, <MoreComments count=5, children=['fv5bly0', 'fv7pm9l', 'fv5mscy']>, <MoreComments count=5, children=['gf92u0o', 'fv68ik8', 'gfbruai', '...']>, <MoreComments count=5, children=['fvnzm5s', 'fvr2p74', 'fvpb3vn', '...']>, <MoreComments count=5, children=['gf7qcww', 'gf7vx2k', 'gf7rtb0', 'gf898n5']>, <MoreComments count=5, children=['fvdpc4g', 'fv6rz9l', 'fv74fn2', 'fv79sv5']>, <MoreComments count=5, children=['fv5dn70']>, <MoreComments count=5, children=['fv74v89', 'fv5dqsv']>, <MoreComments count=5, children=['fv5sp7y']>, <MoreComments count=5, children=['fv834eo', 'fv7tbx0', 'fv82e63', 'fva7oub']>, <MoreComments count=5, children=['fv7aqkg']>, <MoreComments count=5, children=['fv6yejj']>, <MoreComments count=5, children=['fv5asay', 'fv5b2mc']>, <MoreComments count=5, children=['fv72bq1', 'fvazm72']>, <MoreComments count=5, children=['fv5csiw', 'fv5yf18', 'fv69rk7']>, <MoreComments count=5, children=['gf30n6k', 'get03su']>, <MoreComments count=5, children=['fv6mrv4']>, <MoreComments count=4, children=['fv5b7pl', 'fv6irif', 'fv5kb6n']>, <MoreComments count=4, children=['fvbe508']>, <MoreComments count=4, children=['fv57itf', 'fv60rn1']>, <MoreComments count=4, children=['fv83asf']>, <MoreComments count=4, children=['g0kcq1n', 'g9dc7z2', 'fv7ffyf']>, <MoreComments count=4, children=['fv5h8ch', 'fv7rlik', 'fvcw0wu', 'fxjuww9']>, <MoreComments count=4, children=['fv6aykw', 'fv7gnpp']>, <MoreComments count=4, children=['fvej56i', 'fvdaiud', 'fv90tgu']>, <MoreComments count=4, children=['fv68imt', 'fv5p63i', 'g3s2pg5']>, <MoreComments count=4, children=['fv568kl', 'fv66rgt', 'fv65bau', 'fv5c787']>, <MoreComments count=4, children=['fwbuute', 'fvzevp7']>, <MoreComments count=4, children=['fv60qg5']>, <MoreComments count=4, children=['fv5yexg']>, <MoreComments count=4, children=['fv5c0c6']>, <MoreComments count=4, children=['gfhpa8y', 'gfgoukb', 'gfsnrjg', 'gftm76z']>, <MoreComments count=4, children=['fv5vleg', 'fv5c2pe']>, <MoreComments count=4, children=['fv6ezkl', 'fv6m8zh']>, <MoreComments count=4, children=['fv5dxn4', 'fv6p024', 'fv7r9eu', 'fv6qcnz']>, <MoreComments count=4, children=['fv8ea8e']>, <MoreComments count=4, children=['fz15bw8', 'fxjvzlt', 'fvi96r1']>, <MoreComments count=4, children=['fv5mr74']>, <MoreComments count=4, children=['fv5u36b', 'fziu3rv', 'fv5jx86', 'fv5e7mn']>, <MoreComments count=4, children=['fv73l9d', 'fv5h9kq']>, <MoreComments count=4, children=['fv570oa', 'fv5grrv', 'fv57rzh']>, <MoreComments count=4, children=['fv564x0', 'fv66a98', 'fv5trsl', 'fxjv0ti']>, <MoreComments count=4, children=['fv7fl1g', 'fv7x1us', 'fv5v5ro']>, <MoreComments count=4, children=['fvamceh']>, <MoreComments count=3, children=['fvdcomx', 'fzzhp6q', 'fv7g7f5']>, <MoreComments count=3, children=['fv71m9y']>, <MoreComments count=3, children=['fv5g4uc', 'fv5fwck', 'fv5denz']>, <MoreComments count=3, children=['fv5ucpp', 'fv8atzr']>, <MoreComments count=3, children=['gf4dgds', 'gfasy6b', 'gf3q653']>, <MoreComments count=3, children=['fv5cz41', 'fv7jobn', 'fv6b16f']>, <MoreComments count=3, children=['fw5azg3', 'fv579hw', 'fv57z86']>, <MoreComments count=3, children=['fv5ypq4', 'fv5y8vi']>, <MoreComments count=3, children=['fv5qe4c', 'fvqhs9b']>, <MoreComments count=3, children=['fv7lqc5', 'fv6lh7r']>, <MoreComments count=3, children=['fv677ap', 'fv8vtyl']>, <MoreComments count=3, children=['fwchjru', 'fvf67xv', 'fv90ppw']>, <MoreComments count=3, children=['fvdpsr9', 'fvagg9z']>, <MoreComments count=3, children=['fv55i5d']>, <MoreComments count=3, children=['fv63jnt', 'fva5wwl']>, <MoreComments count=3, children=['fv56bgg']>, <MoreComments count=3, children=['fwaj9t6', 'fyl8ca6', 'fwccclr']>, <MoreComments count=3, children=['gf9934h', 'gf4dhlp', 'gfd0hpl']>, <MoreComments count=3, children=['gf46wbf', 'gf4ay6e', 'gf5u9yb']>, <MoreComments count=3, children=['fv6k0j8']>, <MoreComments count=3, children=['fvd8wd4', 'fvcujlo', 'fvbrrfb']>, <MoreComments count=3, children=['fv5b7h8', 'fv7h1cm']>, <MoreComments count=3, children=['fv6670h', 'fv667bz']>, <MoreComments count=3, children=['fv644oo', 'fva61tk']>, <MoreComments count=3, children=['gan0nko', 'fv70h1l', 'fv6sp6k']>, <MoreComments count=3, children=['fv5m93t', 'fv6g1ky']>, <MoreComments count=3, children=['fv6bwya', 'fv5bidx', 'fv7qf12']>, <MoreComments count=3, children=['fv566co', 'fv62nt6', 'fv8dqee']>, <MoreComments count=3, children=['fve1c2w', 'fvd500d']>, <MoreComments count=3, children=['fv5ott6']>, <MoreComments count=3, children=['fv7mtrk', 'fv7o9vt', 'fv6bzqe']>, <MoreComments count=3, children=['g2of5ai']>, <MoreComments count=3, children=['fv5w2ia', 'fv72g3x']>, <MoreComments count=3, children=['fv5lzcq', 'fv5o1f6']>, <MoreComments count=3, children=['fv6vfiu', 'fv5o686', 'fv5ouof']>, <MoreComments count=3, children=['fv6jyh8']>, <MoreComments count=3, children=['fv55bve']>, <MoreComments count=2, children=['fv5dvrc', 'fv5xtxw']>, <MoreComments count=2, children=['fv7b6bk', 'fv8nvs1']>, <MoreComments count=2, children=['fv6tkp0', 'fv6av7x']>, <MoreComments count=2, children=['fv94l10', 'fv60xb8']>, <MoreComments count=2, children=['fv6smhw']>, <MoreComments count=2, children=['fv7sn44', 'fv6rve4']>, <MoreComments count=2, children=['fv72nlc', 'g2gp4h6']>, <MoreComments count=2, children=['fv7dhoc', 'fv7o73j']>, <MoreComments count=2, children=['fv5qxq1', 'fv5sask']>, <MoreComments count=2, children=['fv8bjxo', 'fv7ins7']>, <MoreComments count=2, children=['fv60yx9']>, <MoreComments count=2, children=['fv64gzk', 'fv5nk65']>, <MoreComments count=2, children=['fv5c8h8']>, <MoreComments count=2, children=['gan0jui', 'fv944od']>, <MoreComments count=2, children=['fv5m5ce', 'fv5vkkf']>, <MoreComments count=2, children=['fyu83tk', 'fysp2gc']>, <MoreComments count=2, children=['fv78bqh', 'fv6sa3y']>, <MoreComments count=2, children=['fv78wuq', 'fv75d8d']>, <MoreComments count=2, children=['fv6phce']>, <MoreComments count=2, children=['fv58esh', 'fv58u03']>, <MoreComments count=2, children=['fwgk4w3', 'fvhnikc']>, <MoreComments count=2, children=['fv5kll1']>, <MoreComments count=2, children=['fv564r4', 'fv5mi2g']>, <MoreComments count=2, children=['fv5fcvr']>, <MoreComments count=2, children=['fvb7vwy', 'fvhosi7']>, <MoreComments count=2, children=['fv58xxy']>, <MoreComments count=2, children=['fv5zbz8', 'fv5jmj0']>, <MoreComments count=2, children=['fv63sp8', 'fv5dnuk']>, <MoreComments count=2, children=['fvex3no']>, <MoreComments count=2, children=['fv57lq0', 'fv5ebmg']>, <MoreComments count=2, children=['fvgy1zu', 'gawcq0q']>, <MoreComments count=2, children=['g7m2eyx', 'fv7y9dy']>, <MoreComments count=2, children=['fv5hpmh']>, <MoreComments count=2, children=['fv7nws0']>, <MoreComments count=2, children=['fv73gxc', 'fv5z7sj']>, <MoreComments count=2, children=['fv5m4b7', 'fv56e3v']>, <MoreComments count=2, children=['fv57ouc']>, <MoreComments count=2, children=['fv7mj1q']>, <MoreComments count=2, children=['fv6k88w']>, <MoreComments count=2, children=['fv7z2u8', 'fvdf00t']>, <MoreComments count=2, children=['fv5c2kt', 'fv5aesn']>, <MoreComments count=2, children=['fv8788s']>, <MoreComments count=2, children=['fv5ase8', 'fv5qbim']>, <MoreComments count=2, children=['fvaagvs', 'fv5zbit']>, <MoreComments count=2, children=['fv5qtcd', 'fv5wwfy']>, <MoreComments count=2, children=['fv5s8kd']>, <MoreComments count=2, children=['fvcuvbn', 'fv77ety']>, <MoreComments count=2, children=['fv6wh50']>, <MoreComments count=2, children=['gf7n1zs']>, <MoreComments count=2, children=['fv7xxbl', 'fv8cbsd']>, <MoreComments count=2, children=['fv7ylq1', 'fvca96m']>, <MoreComments count=2, children=['fv8lqmn']>, <MoreComments count=2, children=['fv616z2']>, <MoreComments count=2, children=['fv5a8p9']>, <MoreComments count=2, children=['fv6hdgo', 'fvaz1ty']>, <MoreComments count=2, children=['geitjsp', 'fv5b75z']>, <MoreComments count=2, children=['fv8e614', 'fv5wtv3']>, <MoreComments count=1, children=['fvz7gw5']>, <MoreComments count=1, children=['fv6s16k']>, <MoreComments count=1, children=['fv6594p']>, <MoreComments count=1, children=['fv6ezqr']>, <MoreComments count=1, children=['g0owrpe']>, <MoreComments count=1, children=['fv6lsw0']>, <MoreComments count=1, children=['fv5ze6u']>, <MoreComments count=1, children=['gfi06y6']>, <MoreComments count=1, children=['fv61p6o']>, <MoreComments count=1, children=['g8h3zmf']>, <MoreComments count=1, children=['fv7drwr']>, <MoreComments count=1, children=['fv5dg98']>, <MoreComments count=1, children=['fv5gwgw']>, <MoreComments count=1, children=['fv6k79b']>, <MoreComments count=1, children=['fv7y2ju']>, <MoreComments count=1, children=['fv6ju16']>, <MoreComments count=1, children=['fv5gdh4']>, <MoreComments count=1, children=['fv8edzd']>, <MoreComments count=1, children=['fv5gi75']>, <MoreComments count=1, children=['fv5ao8q']>, <MoreComments count=1, children=['fwaoznh']>, <MoreComments count=1, children=['fv8esfe']>, <MoreComments count=1, children=['fv8o6cw']>, <MoreComments count=1, children=['fv776pu']>, <MoreComments count=1, children=['fv663v5']>, <MoreComments count=1, children=['fv5w2xf']>, <MoreComments count=1, children=['fx2306s']>, <MoreComments count=1, children=['fv7j3g3']>, <MoreComments count=1, children=['fv7bmxm']>, <MoreComments count=1, children=['fvk1dkt']>, <MoreComments count=1, children=['fv5rfvm']>, <MoreComments count=1, children=['fv5nhbb']>, <MoreComments count=1, children=['fv8nei0']>, <MoreComments count=1, children=['fvc4zkg']>, <MoreComments count=1, children=['fz0h225']>, <MoreComments count=1, children=['fv5qoco']>, <MoreComments count=1, children=['fv746d2']>, <MoreComments count=1, children=['fv632e7']>, <MoreComments count=1, children=['fv5h2eq']>, <MoreComments count=1, children=['fv59qs1']>, <MoreComments count=1, children=['fv5rgcr']>, <MoreComments count=1, children=['fv5vilg']>, <MoreComments count=1, children=['gfa727o']>, <MoreComments count=1, children=['fv8h8s0']>, <MoreComments count=1, children=['fvdaeoa']>, <MoreComments count=1, children=['fv5pwmb']>, <MoreComments count=1, children=['fv5pzbc']>, <MoreComments count=1, children=['fv5m4z2']>, <MoreComments count=1, children=['fv5mox1']>, <MoreComments count=1, children=['g2azdlh']>, <MoreComments count=1, children=['fv643ro']>, <MoreComments count=1, children=['fva5lv3']>, <MoreComments count=1, children=['fv5ulvf']>, <MoreComments count=1, children=['fv5bkse']>, <MoreComments count=1, children=['fv7omw7']>, <MoreComments count=1, children=['fv5556y']>, <MoreComments count=1, children=['fv5vbfx']>, <MoreComments count=1, children=['fv6756q']>, <MoreComments count=1, children=['fv767l8']>, <MoreComments count=1, children=['g2ckp47']>, <MoreComments count=1, children=['fv6m9hu']>, <MoreComments count=1, children=['fv5mgep']>, <MoreComments count=1, children=['fvhduc8']>, <MoreComments count=1, children=['gel8gc7']>, <MoreComments count=1, children=['g4kqmfk']>, <MoreComments count=1, children=['fv6zape']>, <MoreComments count=1, children=['fv7l3s8']>, <MoreComments count=1, children=['fv5v8tn']>, <MoreComments count=1, children=['fv6oh1a']>, <MoreComments count=1, children=['fypud5s']>, <MoreComments count=1, children=['fv59adf']>, <MoreComments count=0, children=[]>, <MoreComments count=0, children=[]>, <MoreComments count=0, children=[]>, <MoreComments count=0, children=[]>, <MoreComments count=0, children=[]>, <MoreComments count=0, children=[]>, <MoreComments count=0, children=[]>, <MoreComments count=0, children=[]>, <MoreComments count=0, children=[]>, <MoreComments count=0, children=[]>, <MoreComments count=0, children=[]>, <MoreComments count=0, children=[]>, <MoreComments count=0, children=[]>, <MoreComments count=0, children=[]>, <MoreComments count=0, children=[]>, <MoreComments count=0, children=[]>, <MoreComments count=0, children=[]>, <MoreComments count=0, children=[]>]\n"
     ]
    }
   ],
   "source": [
    "b = a[0].replace_more(limit=1)\n",
    "b\n"
   ]
  },
  {
   "cell_type": "code",
   "execution_count": null,
   "metadata": {},
   "outputs": [],
   "source": [
    "def sent_to_words(sentences):\n",
    "    for sentence in sentences:\n",
    "        yield(gensim.utils.simple_preprocess(str(sentence), deacc=True))  # deacc=True removes punctuations\n",
    "\n",
    "# Define functions for stopwords, bigrams, trigrams and lemmatization\n",
    "def remove_stopwords(texts):\n",
    "    return [[word for word in simple_preprocess(str(doc)) if word not in stop_words] for doc in texts]\n",
    "\n",
    "def make_bigrams(texts):\n",
    "    return [bigram_mod[doc] for doc in texts]\n",
    "\n",
    "def make_trigrams(texts):\n",
    "    return [trigram_mod[bigram_mod[doc]] for doc in texts]\n",
    "\n",
    "def lemmatization(texts, allowed_postags=['NOUN', 'ADJ', 'VERB', 'ADV']):\n",
    "    \"\"\"https://spacy.io/api/annotation\"\"\"\n",
    "    texts_out = []\n",
    "    for sent in texts:\n",
    "        doc = nlp(\" \".join(sent)) \n",
    "        texts_out.append([token.lemma_ for token in doc if token.pos_ in allowed_postags])\n",
    "    return texts_out\n"
   ]
  },
  {
   "cell_type": "markdown",
   "metadata": {},
   "source": [
    "We can now print a csv for each crossposting between subreddits with the topic modeling of the common posts."
   ]
  },
  {
   "cell_type": "code",
   "execution_count": null,
   "metadata": {},
   "outputs": [],
   "source": [
    "comments = pd.read_csv('comments.csv', encoding='utf8', on_bad_lines='skip')"
   ]
  },
  {
   "cell_type": "code",
   "execution_count": null,
   "metadata": {},
   "outputs": [],
   "source": [
    "top_comments = dict()\n",
    "latest_passage = 'results/1st_level\\1984isreality.csv @ https://www.reddit.com/r/ukpolitics'\n",
    "for row in comments.iterrows():\n",
    "    if 'reddit' in row[1][1]:\n",
    "        latest_passage = row[1][1]\n",
    "    elif latest_passage not in top_comments.keys():\n",
    "        top_comments[latest_passage] = [row[1][1]]\n",
    "    elif latest_passage in top_comments.keys():\n",
    "        top_comments[latest_passage].append(row[1][1])\n",
    "    \n",
    "        \n"
   ]
  },
  {
   "cell_type": "code",
   "execution_count": null,
   "metadata": {},
   "outputs": [],
   "source": [
    "for comment in top_comments.keys():\n",
    "    mt = top_comments[comment]\n",
    "    for i in mt:\n",
    "        print(reddit.comment(i).body)"
   ]
  },
  {
   "cell_type": "code",
   "execution_count": null,
   "metadata": {},
   "outputs": [],
   "source": [
    "done = pd.read_csv('done.csv', encoding='utf8', on_bad_lines='skip')\n",
    "done_set=set(done.columns)\n",
    "check= set(top_comments.keys())\n",
    "\n",
    "diff = set(check).difference(done_set)\n",
    "print(diff)\n"
   ]
  },
  {
   "cell_type": "code",
   "execution_count": 7,
   "metadata": {},
   "outputs": [
    {
     "name": "stdout",
     "output_type": "stream",
     "text": [
      "Cryptoandme\n"
     ]
    },
    {
     "ename": "KeyboardInterrupt",
     "evalue": "",
     "output_type": "error",
     "traceback": [
      "\u001b[1;31m---------------------------------------------------------------------------\u001b[0m",
      "\u001b[1;31mgaierror\u001b[0m                                  Traceback (most recent call last)",
      "\u001b[1;32m~\\AppData\\Local\\Programs\\Python\\Python39\\lib\\site-packages\\urllib3\\connection.py\u001b[0m in \u001b[0;36m_new_conn\u001b[1;34m(self)\u001b[0m\n\u001b[0;32m    173\u001b[0m         \u001b[1;32mtry\u001b[0m\u001b[1;33m:\u001b[0m\u001b[1;33m\u001b[0m\u001b[1;33m\u001b[0m\u001b[0m\n\u001b[1;32m--> 174\u001b[1;33m             conn = connection.create_connection(\n\u001b[0m\u001b[0;32m    175\u001b[0m                 \u001b[1;33m(\u001b[0m\u001b[0mself\u001b[0m\u001b[1;33m.\u001b[0m\u001b[0m_dns_host\u001b[0m\u001b[1;33m,\u001b[0m \u001b[0mself\u001b[0m\u001b[1;33m.\u001b[0m\u001b[0mport\u001b[0m\u001b[1;33m)\u001b[0m\u001b[1;33m,\u001b[0m \u001b[0mself\u001b[0m\u001b[1;33m.\u001b[0m\u001b[0mtimeout\u001b[0m\u001b[1;33m,\u001b[0m \u001b[1;33m**\u001b[0m\u001b[0mextra_kw\u001b[0m\u001b[1;33m\u001b[0m\u001b[1;33m\u001b[0m\u001b[0m\n",
      "\u001b[1;32m~\\AppData\\Local\\Programs\\Python\\Python39\\lib\\site-packages\\urllib3\\util\\connection.py\u001b[0m in \u001b[0;36mcreate_connection\u001b[1;34m(address, timeout, source_address, socket_options)\u001b[0m\n\u001b[0;32m     72\u001b[0m \u001b[1;33m\u001b[0m\u001b[0m\n\u001b[1;32m---> 73\u001b[1;33m     \u001b[1;32mfor\u001b[0m \u001b[0mres\u001b[0m \u001b[1;32min\u001b[0m \u001b[0msocket\u001b[0m\u001b[1;33m.\u001b[0m\u001b[0mgetaddrinfo\u001b[0m\u001b[1;33m(\u001b[0m\u001b[0mhost\u001b[0m\u001b[1;33m,\u001b[0m \u001b[0mport\u001b[0m\u001b[1;33m,\u001b[0m \u001b[0mfamily\u001b[0m\u001b[1;33m,\u001b[0m \u001b[0msocket\u001b[0m\u001b[1;33m.\u001b[0m\u001b[0mSOCK_STREAM\u001b[0m\u001b[1;33m)\u001b[0m\u001b[1;33m:\u001b[0m\u001b[1;33m\u001b[0m\u001b[1;33m\u001b[0m\u001b[0m\n\u001b[0m\u001b[0;32m     74\u001b[0m         \u001b[0maf\u001b[0m\u001b[1;33m,\u001b[0m \u001b[0msocktype\u001b[0m\u001b[1;33m,\u001b[0m \u001b[0mproto\u001b[0m\u001b[1;33m,\u001b[0m \u001b[0mcanonname\u001b[0m\u001b[1;33m,\u001b[0m \u001b[0msa\u001b[0m \u001b[1;33m=\u001b[0m \u001b[0mres\u001b[0m\u001b[1;33m\u001b[0m\u001b[1;33m\u001b[0m\u001b[0m\n",
      "\u001b[1;32m~\\AppData\\Local\\Programs\\Python\\Python39\\lib\\socket.py\u001b[0m in \u001b[0;36mgetaddrinfo\u001b[1;34m(host, port, family, type, proto, flags)\u001b[0m\n\u001b[0;32m    953\u001b[0m     \u001b[0maddrlist\u001b[0m \u001b[1;33m=\u001b[0m \u001b[1;33m[\u001b[0m\u001b[1;33m]\u001b[0m\u001b[1;33m\u001b[0m\u001b[1;33m\u001b[0m\u001b[0m\n\u001b[1;32m--> 954\u001b[1;33m     \u001b[1;32mfor\u001b[0m \u001b[0mres\u001b[0m \u001b[1;32min\u001b[0m \u001b[0m_socket\u001b[0m\u001b[1;33m.\u001b[0m\u001b[0mgetaddrinfo\u001b[0m\u001b[1;33m(\u001b[0m\u001b[0mhost\u001b[0m\u001b[1;33m,\u001b[0m \u001b[0mport\u001b[0m\u001b[1;33m,\u001b[0m \u001b[0mfamily\u001b[0m\u001b[1;33m,\u001b[0m \u001b[0mtype\u001b[0m\u001b[1;33m,\u001b[0m \u001b[0mproto\u001b[0m\u001b[1;33m,\u001b[0m \u001b[0mflags\u001b[0m\u001b[1;33m)\u001b[0m\u001b[1;33m:\u001b[0m\u001b[1;33m\u001b[0m\u001b[1;33m\u001b[0m\u001b[0m\n\u001b[0m\u001b[0;32m    955\u001b[0m         \u001b[0maf\u001b[0m\u001b[1;33m,\u001b[0m \u001b[0msocktype\u001b[0m\u001b[1;33m,\u001b[0m \u001b[0mproto\u001b[0m\u001b[1;33m,\u001b[0m \u001b[0mcanonname\u001b[0m\u001b[1;33m,\u001b[0m \u001b[0msa\u001b[0m \u001b[1;33m=\u001b[0m \u001b[0mres\u001b[0m\u001b[1;33m\u001b[0m\u001b[1;33m\u001b[0m\u001b[0m\n",
      "\u001b[1;31mgaierror\u001b[0m: [Errno 11001] getaddrinfo failed",
      "\nDuring handling of the above exception, another exception occurred:\n",
      "\u001b[1;31mKeyboardInterrupt\u001b[0m                         Traceback (most recent call last)",
      "\u001b[1;32m~\\AppData\\Local\\Temp/ipykernel_13368/2554767873.py\u001b[0m in \u001b[0;36m<module>\u001b[1;34m\u001b[0m\n\u001b[0;32m     14\u001b[0m         \u001b[0mdata\u001b[0m\u001b[1;33m.\u001b[0m\u001b[0mappend\u001b[0m\u001b[1;33m(\u001b[0m\u001b[0mreddit\u001b[0m\u001b[1;33m.\u001b[0m\u001b[0mcomment\u001b[0m\u001b[1;33m(\u001b[0m\u001b[0mi\u001b[0m\u001b[1;33m)\u001b[0m\u001b[1;33m)\u001b[0m\u001b[1;33m\u001b[0m\u001b[1;33m\u001b[0m\u001b[0m\n\u001b[0;32m     15\u001b[0m     \u001b[1;31m# Remove tags from comments\u001b[0m\u001b[1;33m\u001b[0m\u001b[1;33m\u001b[0m\u001b[0m\n\u001b[1;32m---> 16\u001b[1;33m     \u001b[0mdata\u001b[0m \u001b[1;33m=\u001b[0m \u001b[1;33m[\u001b[0m\u001b[0mre\u001b[0m\u001b[1;33m.\u001b[0m\u001b[0msub\u001b[0m\u001b[1;33m(\u001b[0m\u001b[1;34m'\\S*@\\S*\\s?'\u001b[0m\u001b[1;33m,\u001b[0m \u001b[1;34m''\u001b[0m\u001b[1;33m,\u001b[0m \u001b[0msent\u001b[0m\u001b[1;33m.\u001b[0m\u001b[0mbody\u001b[0m\u001b[1;33m)\u001b[0m \u001b[1;32mfor\u001b[0m \u001b[0msent\u001b[0m \u001b[1;32min\u001b[0m \u001b[0mdata\u001b[0m\u001b[1;33m]\u001b[0m\u001b[1;33m\u001b[0m\u001b[1;33m\u001b[0m\u001b[0m\n\u001b[0m\u001b[0;32m     17\u001b[0m \u001b[1;33m\u001b[0m\u001b[0m\n\u001b[0;32m     18\u001b[0m     \u001b[1;31m# Remove new line characters\u001b[0m\u001b[1;33m\u001b[0m\u001b[1;33m\u001b[0m\u001b[0m\n",
      "\u001b[1;32m~\\AppData\\Local\\Temp/ipykernel_13368/2554767873.py\u001b[0m in \u001b[0;36m<listcomp>\u001b[1;34m(.0)\u001b[0m\n\u001b[0;32m     14\u001b[0m         \u001b[0mdata\u001b[0m\u001b[1;33m.\u001b[0m\u001b[0mappend\u001b[0m\u001b[1;33m(\u001b[0m\u001b[0mreddit\u001b[0m\u001b[1;33m.\u001b[0m\u001b[0mcomment\u001b[0m\u001b[1;33m(\u001b[0m\u001b[0mi\u001b[0m\u001b[1;33m)\u001b[0m\u001b[1;33m)\u001b[0m\u001b[1;33m\u001b[0m\u001b[1;33m\u001b[0m\u001b[0m\n\u001b[0;32m     15\u001b[0m     \u001b[1;31m# Remove tags from comments\u001b[0m\u001b[1;33m\u001b[0m\u001b[1;33m\u001b[0m\u001b[0m\n\u001b[1;32m---> 16\u001b[1;33m     \u001b[0mdata\u001b[0m \u001b[1;33m=\u001b[0m \u001b[1;33m[\u001b[0m\u001b[0mre\u001b[0m\u001b[1;33m.\u001b[0m\u001b[0msub\u001b[0m\u001b[1;33m(\u001b[0m\u001b[1;34m'\\S*@\\S*\\s?'\u001b[0m\u001b[1;33m,\u001b[0m \u001b[1;34m''\u001b[0m\u001b[1;33m,\u001b[0m \u001b[0msent\u001b[0m\u001b[1;33m.\u001b[0m\u001b[0mbody\u001b[0m\u001b[1;33m)\u001b[0m \u001b[1;32mfor\u001b[0m \u001b[0msent\u001b[0m \u001b[1;32min\u001b[0m \u001b[0mdata\u001b[0m\u001b[1;33m]\u001b[0m\u001b[1;33m\u001b[0m\u001b[1;33m\u001b[0m\u001b[0m\n\u001b[0m\u001b[0;32m     17\u001b[0m \u001b[1;33m\u001b[0m\u001b[0m\n\u001b[0;32m     18\u001b[0m     \u001b[1;31m# Remove new line characters\u001b[0m\u001b[1;33m\u001b[0m\u001b[1;33m\u001b[0m\u001b[0m\n",
      "\u001b[1;32m~\\AppData\\Local\\Programs\\Python\\Python39\\lib\\site-packages\\praw\\models\\reddit\\base.py\u001b[0m in \u001b[0;36m__getattr__\u001b[1;34m(self, attribute)\u001b[0m\n\u001b[0;32m     32\u001b[0m         \u001b[1;34m\"\"\"Return the value of `attribute`.\"\"\"\u001b[0m\u001b[1;33m\u001b[0m\u001b[1;33m\u001b[0m\u001b[0m\n\u001b[0;32m     33\u001b[0m         \u001b[1;32mif\u001b[0m \u001b[1;32mnot\u001b[0m \u001b[0mattribute\u001b[0m\u001b[1;33m.\u001b[0m\u001b[0mstartswith\u001b[0m\u001b[1;33m(\u001b[0m\u001b[1;34m\"_\"\u001b[0m\u001b[1;33m)\u001b[0m \u001b[1;32mand\u001b[0m \u001b[1;32mnot\u001b[0m \u001b[0mself\u001b[0m\u001b[1;33m.\u001b[0m\u001b[0m_fetched\u001b[0m\u001b[1;33m:\u001b[0m\u001b[1;33m\u001b[0m\u001b[1;33m\u001b[0m\u001b[0m\n\u001b[1;32m---> 34\u001b[1;33m             \u001b[0mself\u001b[0m\u001b[1;33m.\u001b[0m\u001b[0m_fetch\u001b[0m\u001b[1;33m(\u001b[0m\u001b[1;33m)\u001b[0m\u001b[1;33m\u001b[0m\u001b[1;33m\u001b[0m\u001b[0m\n\u001b[0m\u001b[0;32m     35\u001b[0m             \u001b[1;32mreturn\u001b[0m \u001b[0mgetattr\u001b[0m\u001b[1;33m(\u001b[0m\u001b[0mself\u001b[0m\u001b[1;33m,\u001b[0m \u001b[0mattribute\u001b[0m\u001b[1;33m)\u001b[0m\u001b[1;33m\u001b[0m\u001b[1;33m\u001b[0m\u001b[0m\n\u001b[0;32m     36\u001b[0m         raise AttributeError(\n",
      "\u001b[1;32m~\\AppData\\Local\\Programs\\Python\\Python39\\lib\\site-packages\\praw\\models\\reddit\\comment.py\u001b[0m in \u001b[0;36m_fetch\u001b[1;34m(self)\u001b[0m\n\u001b[0;32m    194\u001b[0m \u001b[1;33m\u001b[0m\u001b[0m\n\u001b[0;32m    195\u001b[0m     \u001b[1;32mdef\u001b[0m \u001b[0m_fetch\u001b[0m\u001b[1;33m(\u001b[0m\u001b[0mself\u001b[0m\u001b[1;33m)\u001b[0m\u001b[1;33m:\u001b[0m\u001b[1;33m\u001b[0m\u001b[1;33m\u001b[0m\u001b[0m\n\u001b[1;32m--> 196\u001b[1;33m         \u001b[0mdata\u001b[0m \u001b[1;33m=\u001b[0m \u001b[0mself\u001b[0m\u001b[1;33m.\u001b[0m\u001b[0m_fetch_data\u001b[0m\u001b[1;33m(\u001b[0m\u001b[1;33m)\u001b[0m\u001b[1;33m\u001b[0m\u001b[1;33m\u001b[0m\u001b[0m\n\u001b[0m\u001b[0;32m    197\u001b[0m         \u001b[0mdata\u001b[0m \u001b[1;33m=\u001b[0m \u001b[0mdata\u001b[0m\u001b[1;33m[\u001b[0m\u001b[1;34m\"data\"\u001b[0m\u001b[1;33m]\u001b[0m\u001b[1;33m\u001b[0m\u001b[1;33m\u001b[0m\u001b[0m\n\u001b[0;32m    198\u001b[0m \u001b[1;33m\u001b[0m\u001b[0m\n",
      "\u001b[1;32m~\\AppData\\Local\\Programs\\Python\\Python39\\lib\\site-packages\\praw\\models\\reddit\\comment.py\u001b[0m in \u001b[0;36m_fetch_data\u001b[1;34m(self)\u001b[0m\n\u001b[0;32m    191\u001b[0m         \u001b[0mname\u001b[0m\u001b[1;33m,\u001b[0m \u001b[0mfields\u001b[0m\u001b[1;33m,\u001b[0m \u001b[0mparams\u001b[0m \u001b[1;33m=\u001b[0m \u001b[0mself\u001b[0m\u001b[1;33m.\u001b[0m\u001b[0m_fetch_info\u001b[0m\u001b[1;33m(\u001b[0m\u001b[1;33m)\u001b[0m\u001b[1;33m\u001b[0m\u001b[1;33m\u001b[0m\u001b[0m\n\u001b[0;32m    192\u001b[0m         \u001b[0mpath\u001b[0m \u001b[1;33m=\u001b[0m \u001b[0mAPI_PATH\u001b[0m\u001b[1;33m[\u001b[0m\u001b[0mname\u001b[0m\u001b[1;33m]\u001b[0m\u001b[1;33m.\u001b[0m\u001b[0mformat\u001b[0m\u001b[1;33m(\u001b[0m\u001b[1;33m**\u001b[0m\u001b[0mfields\u001b[0m\u001b[1;33m)\u001b[0m\u001b[1;33m\u001b[0m\u001b[1;33m\u001b[0m\u001b[0m\n\u001b[1;32m--> 193\u001b[1;33m         \u001b[1;32mreturn\u001b[0m \u001b[0mself\u001b[0m\u001b[1;33m.\u001b[0m\u001b[0m_reddit\u001b[0m\u001b[1;33m.\u001b[0m\u001b[0mrequest\u001b[0m\u001b[1;33m(\u001b[0m\u001b[1;34m\"GET\"\u001b[0m\u001b[1;33m,\u001b[0m \u001b[0mpath\u001b[0m\u001b[1;33m,\u001b[0m \u001b[0mparams\u001b[0m\u001b[1;33m)\u001b[0m\u001b[1;33m\u001b[0m\u001b[1;33m\u001b[0m\u001b[0m\n\u001b[0m\u001b[0;32m    194\u001b[0m \u001b[1;33m\u001b[0m\u001b[0m\n\u001b[0;32m    195\u001b[0m     \u001b[1;32mdef\u001b[0m \u001b[0m_fetch\u001b[0m\u001b[1;33m(\u001b[0m\u001b[0mself\u001b[0m\u001b[1;33m)\u001b[0m\u001b[1;33m:\u001b[0m\u001b[1;33m\u001b[0m\u001b[1;33m\u001b[0m\u001b[0m\n",
      "\u001b[1;32m~\\AppData\\Local\\Programs\\Python\\Python39\\lib\\site-packages\\praw\\reddit.py\u001b[0m in \u001b[0;36mrequest\u001b[1;34m(self, method, path, params, data, files, json)\u001b[0m\n\u001b[0;32m    883\u001b[0m             \u001b[1;32mraise\u001b[0m \u001b[0mClientException\u001b[0m\u001b[1;33m(\u001b[0m\u001b[1;34m\"At most one of `data` and `json` is supported.\"\u001b[0m\u001b[1;33m)\u001b[0m\u001b[1;33m\u001b[0m\u001b[1;33m\u001b[0m\u001b[0m\n\u001b[0;32m    884\u001b[0m         \u001b[1;32mtry\u001b[0m\u001b[1;33m:\u001b[0m\u001b[1;33m\u001b[0m\u001b[1;33m\u001b[0m\u001b[0m\n\u001b[1;32m--> 885\u001b[1;33m             return self._core.request(\n\u001b[0m\u001b[0;32m    886\u001b[0m                 \u001b[0mmethod\u001b[0m\u001b[1;33m,\u001b[0m\u001b[1;33m\u001b[0m\u001b[1;33m\u001b[0m\u001b[0m\n\u001b[0;32m    887\u001b[0m                 \u001b[0mpath\u001b[0m\u001b[1;33m,\u001b[0m\u001b[1;33m\u001b[0m\u001b[1;33m\u001b[0m\u001b[0m\n",
      "\u001b[1;32m~\\AppData\\Local\\Programs\\Python\\Python39\\lib\\site-packages\\prawcore\\sessions.py\u001b[0m in \u001b[0;36mrequest\u001b[1;34m(self, method, path, data, files, json, params, timeout)\u001b[0m\n\u001b[0;32m    328\u001b[0m             \u001b[0mjson\u001b[0m\u001b[1;33m[\u001b[0m\u001b[1;34m\"api_type\"\u001b[0m\u001b[1;33m]\u001b[0m \u001b[1;33m=\u001b[0m \u001b[1;34m\"json\"\u001b[0m\u001b[1;33m\u001b[0m\u001b[1;33m\u001b[0m\u001b[0m\n\u001b[0;32m    329\u001b[0m         \u001b[0murl\u001b[0m \u001b[1;33m=\u001b[0m \u001b[0murljoin\u001b[0m\u001b[1;33m(\u001b[0m\u001b[0mself\u001b[0m\u001b[1;33m.\u001b[0m\u001b[0m_requestor\u001b[0m\u001b[1;33m.\u001b[0m\u001b[0moauth_url\u001b[0m\u001b[1;33m,\u001b[0m \u001b[0mpath\u001b[0m\u001b[1;33m)\u001b[0m\u001b[1;33m\u001b[0m\u001b[1;33m\u001b[0m\u001b[0m\n\u001b[1;32m--> 330\u001b[1;33m         return self._request_with_retries(\n\u001b[0m\u001b[0;32m    331\u001b[0m             \u001b[0mdata\u001b[0m\u001b[1;33m=\u001b[0m\u001b[0mdata\u001b[0m\u001b[1;33m,\u001b[0m\u001b[1;33m\u001b[0m\u001b[1;33m\u001b[0m\u001b[0m\n\u001b[0;32m    332\u001b[0m             \u001b[0mfiles\u001b[0m\u001b[1;33m=\u001b[0m\u001b[0mfiles\u001b[0m\u001b[1;33m,\u001b[0m\u001b[1;33m\u001b[0m\u001b[1;33m\u001b[0m\u001b[0m\n",
      "\u001b[1;32m~\\AppData\\Local\\Programs\\Python\\Python39\\lib\\site-packages\\prawcore\\sessions.py\u001b[0m in \u001b[0;36m_request_with_retries\u001b[1;34m(self, data, files, json, method, params, timeout, url, retry_strategy_state)\u001b[0m\n\u001b[0;32m    226\u001b[0m         \u001b[0mretry_strategy_state\u001b[0m\u001b[1;33m.\u001b[0m\u001b[0msleep\u001b[0m\u001b[1;33m(\u001b[0m\u001b[1;33m)\u001b[0m\u001b[1;33m\u001b[0m\u001b[1;33m\u001b[0m\u001b[0m\n\u001b[0;32m    227\u001b[0m         \u001b[0mself\u001b[0m\u001b[1;33m.\u001b[0m\u001b[0m_log_request\u001b[0m\u001b[1;33m(\u001b[0m\u001b[0mdata\u001b[0m\u001b[1;33m,\u001b[0m \u001b[0mmethod\u001b[0m\u001b[1;33m,\u001b[0m \u001b[0mparams\u001b[0m\u001b[1;33m,\u001b[0m \u001b[0murl\u001b[0m\u001b[1;33m)\u001b[0m\u001b[1;33m\u001b[0m\u001b[1;33m\u001b[0m\u001b[0m\n\u001b[1;32m--> 228\u001b[1;33m         response, saved_exception = self._make_request(\n\u001b[0m\u001b[0;32m    229\u001b[0m             \u001b[0mdata\u001b[0m\u001b[1;33m,\u001b[0m\u001b[1;33m\u001b[0m\u001b[1;33m\u001b[0m\u001b[0m\n\u001b[0;32m    230\u001b[0m             \u001b[0mfiles\u001b[0m\u001b[1;33m,\u001b[0m\u001b[1;33m\u001b[0m\u001b[1;33m\u001b[0m\u001b[0m\n",
      "\u001b[1;32m~\\AppData\\Local\\Programs\\Python\\Python39\\lib\\site-packages\\prawcore\\sessions.py\u001b[0m in \u001b[0;36m_make_request\u001b[1;34m(self, data, files, json, method, params, retry_strategy_state, timeout, url)\u001b[0m\n\u001b[0;32m    183\u001b[0m     ):\n\u001b[0;32m    184\u001b[0m         \u001b[1;32mtry\u001b[0m\u001b[1;33m:\u001b[0m\u001b[1;33m\u001b[0m\u001b[1;33m\u001b[0m\u001b[0m\n\u001b[1;32m--> 185\u001b[1;33m             response = self._rate_limiter.call(\n\u001b[0m\u001b[0;32m    186\u001b[0m                 \u001b[0mself\u001b[0m\u001b[1;33m.\u001b[0m\u001b[0m_requestor\u001b[0m\u001b[1;33m.\u001b[0m\u001b[0mrequest\u001b[0m\u001b[1;33m,\u001b[0m\u001b[1;33m\u001b[0m\u001b[1;33m\u001b[0m\u001b[0m\n\u001b[0;32m    187\u001b[0m                 \u001b[0mself\u001b[0m\u001b[1;33m.\u001b[0m\u001b[0m_set_header_callback\u001b[0m\u001b[1;33m,\u001b[0m\u001b[1;33m\u001b[0m\u001b[1;33m\u001b[0m\u001b[0m\n",
      "\u001b[1;32m~\\AppData\\Local\\Programs\\Python\\Python39\\lib\\site-packages\\prawcore\\rate_limit.py\u001b[0m in \u001b[0;36mcall\u001b[1;34m(self, request_function, set_header_callback, *args, **kwargs)\u001b[0m\n\u001b[0;32m     31\u001b[0m         \"\"\"\n\u001b[0;32m     32\u001b[0m         \u001b[0mself\u001b[0m\u001b[1;33m.\u001b[0m\u001b[0mdelay\u001b[0m\u001b[1;33m(\u001b[0m\u001b[1;33m)\u001b[0m\u001b[1;33m\u001b[0m\u001b[1;33m\u001b[0m\u001b[0m\n\u001b[1;32m---> 33\u001b[1;33m         \u001b[0mkwargs\u001b[0m\u001b[1;33m[\u001b[0m\u001b[1;34m\"headers\"\u001b[0m\u001b[1;33m]\u001b[0m \u001b[1;33m=\u001b[0m \u001b[0mset_header_callback\u001b[0m\u001b[1;33m(\u001b[0m\u001b[1;33m)\u001b[0m\u001b[1;33m\u001b[0m\u001b[1;33m\u001b[0m\u001b[0m\n\u001b[0m\u001b[0;32m     34\u001b[0m         \u001b[0mresponse\u001b[0m \u001b[1;33m=\u001b[0m \u001b[0mrequest_function\u001b[0m\u001b[1;33m(\u001b[0m\u001b[1;33m*\u001b[0m\u001b[0margs\u001b[0m\u001b[1;33m,\u001b[0m \u001b[1;33m**\u001b[0m\u001b[0mkwargs\u001b[0m\u001b[1;33m)\u001b[0m\u001b[1;33m\u001b[0m\u001b[1;33m\u001b[0m\u001b[0m\n\u001b[0;32m     35\u001b[0m         \u001b[0mself\u001b[0m\u001b[1;33m.\u001b[0m\u001b[0mupdate\u001b[0m\u001b[1;33m(\u001b[0m\u001b[0mresponse\u001b[0m\u001b[1;33m.\u001b[0m\u001b[0mheaders\u001b[0m\u001b[1;33m)\u001b[0m\u001b[1;33m\u001b[0m\u001b[1;33m\u001b[0m\u001b[0m\n",
      "\u001b[1;32m~\\AppData\\Local\\Programs\\Python\\Python39\\lib\\site-packages\\prawcore\\sessions.py\u001b[0m in \u001b[0;36m_set_header_callback\u001b[1;34m(self)\u001b[0m\n\u001b[0;32m    281\u001b[0m             \u001b[0mself\u001b[0m\u001b[1;33m.\u001b[0m\u001b[0m_authorizer\u001b[0m\u001b[1;33m,\u001b[0m \u001b[1;34m\"refresh\"\u001b[0m\u001b[1;33m\u001b[0m\u001b[1;33m\u001b[0m\u001b[0m\n\u001b[0;32m    282\u001b[0m         ):\n\u001b[1;32m--> 283\u001b[1;33m             \u001b[0mself\u001b[0m\u001b[1;33m.\u001b[0m\u001b[0m_authorizer\u001b[0m\u001b[1;33m.\u001b[0m\u001b[0mrefresh\u001b[0m\u001b[1;33m(\u001b[0m\u001b[1;33m)\u001b[0m\u001b[1;33m\u001b[0m\u001b[1;33m\u001b[0m\u001b[0m\n\u001b[0m\u001b[0;32m    284\u001b[0m         \u001b[1;32mreturn\u001b[0m \u001b[1;33m{\u001b[0m\u001b[1;34m\"Authorization\"\u001b[0m\u001b[1;33m:\u001b[0m \u001b[1;34mf\"bearer {self._authorizer.access_token}\"\u001b[0m\u001b[1;33m}\u001b[0m\u001b[1;33m\u001b[0m\u001b[1;33m\u001b[0m\u001b[0m\n\u001b[0;32m    285\u001b[0m \u001b[1;33m\u001b[0m\u001b[0m\n",
      "\u001b[1;32m~\\AppData\\Local\\Programs\\Python\\Python39\\lib\\site-packages\\prawcore\\auth.py\u001b[0m in \u001b[0;36mrefresh\u001b[1;34m(self)\u001b[0m\n\u001b[0;32m    371\u001b[0m         \u001b[1;32mif\u001b[0m \u001b[0mself\u001b[0m\u001b[1;33m.\u001b[0m\u001b[0m_scopes\u001b[0m\u001b[1;33m:\u001b[0m\u001b[1;33m\u001b[0m\u001b[1;33m\u001b[0m\u001b[0m\n\u001b[0;32m    372\u001b[0m             \u001b[0madditional_kwargs\u001b[0m\u001b[1;33m[\u001b[0m\u001b[1;34m\"scope\"\u001b[0m\u001b[1;33m]\u001b[0m \u001b[1;33m=\u001b[0m \u001b[1;34m\" \"\u001b[0m\u001b[1;33m.\u001b[0m\u001b[0mjoin\u001b[0m\u001b[1;33m(\u001b[0m\u001b[0mself\u001b[0m\u001b[1;33m.\u001b[0m\u001b[0m_scopes\u001b[0m\u001b[1;33m)\u001b[0m\u001b[1;33m\u001b[0m\u001b[1;33m\u001b[0m\u001b[0m\n\u001b[1;32m--> 373\u001b[1;33m         self._request_token(\n\u001b[0m\u001b[0;32m    374\u001b[0m             \u001b[0mgrant_type\u001b[0m\u001b[1;33m=\u001b[0m\u001b[1;34m\"client_credentials\"\u001b[0m\u001b[1;33m,\u001b[0m \u001b[1;33m**\u001b[0m\u001b[0madditional_kwargs\u001b[0m\u001b[1;33m\u001b[0m\u001b[1;33m\u001b[0m\u001b[0m\n\u001b[0;32m    375\u001b[0m         )\n",
      "\u001b[1;32m~\\AppData\\Local\\Programs\\Python\\Python39\\lib\\site-packages\\prawcore\\auth.py\u001b[0m in \u001b[0;36m_request_token\u001b[1;34m(self, **data)\u001b[0m\n\u001b[0;32m    153\u001b[0m         )\n\u001b[0;32m    154\u001b[0m         \u001b[0mpre_request_time\u001b[0m \u001b[1;33m=\u001b[0m \u001b[0mtime\u001b[0m\u001b[1;33m.\u001b[0m\u001b[0mtime\u001b[0m\u001b[1;33m(\u001b[0m\u001b[1;33m)\u001b[0m\u001b[1;33m\u001b[0m\u001b[1;33m\u001b[0m\u001b[0m\n\u001b[1;32m--> 155\u001b[1;33m         \u001b[0mresponse\u001b[0m \u001b[1;33m=\u001b[0m \u001b[0mself\u001b[0m\u001b[1;33m.\u001b[0m\u001b[0m_authenticator\u001b[0m\u001b[1;33m.\u001b[0m\u001b[0m_post\u001b[0m\u001b[1;33m(\u001b[0m\u001b[0murl\u001b[0m\u001b[1;33m,\u001b[0m \u001b[1;33m**\u001b[0m\u001b[0mdata\u001b[0m\u001b[1;33m)\u001b[0m\u001b[1;33m\u001b[0m\u001b[1;33m\u001b[0m\u001b[0m\n\u001b[0m\u001b[0;32m    156\u001b[0m         \u001b[0mpayload\u001b[0m \u001b[1;33m=\u001b[0m \u001b[0mresponse\u001b[0m\u001b[1;33m.\u001b[0m\u001b[0mjson\u001b[0m\u001b[1;33m(\u001b[0m\u001b[1;33m)\u001b[0m\u001b[1;33m\u001b[0m\u001b[1;33m\u001b[0m\u001b[0m\n\u001b[0;32m    157\u001b[0m         \u001b[1;32mif\u001b[0m \u001b[1;34m\"error\"\u001b[0m \u001b[1;32min\u001b[0m \u001b[0mpayload\u001b[0m\u001b[1;33m:\u001b[0m  \u001b[1;31m# Why are these OKAY responses?\u001b[0m\u001b[1;33m\u001b[0m\u001b[1;33m\u001b[0m\u001b[0m\n",
      "\u001b[1;32m~\\AppData\\Local\\Programs\\Python\\Python39\\lib\\site-packages\\prawcore\\auth.py\u001b[0m in \u001b[0;36m_post\u001b[1;34m(self, url, success_status, **data)\u001b[0m\n\u001b[0;32m     28\u001b[0m \u001b[1;33m\u001b[0m\u001b[0m\n\u001b[0;32m     29\u001b[0m     \u001b[1;32mdef\u001b[0m \u001b[0m_post\u001b[0m\u001b[1;33m(\u001b[0m\u001b[0mself\u001b[0m\u001b[1;33m,\u001b[0m \u001b[0murl\u001b[0m\u001b[1;33m,\u001b[0m \u001b[0msuccess_status\u001b[0m\u001b[1;33m=\u001b[0m\u001b[0mcodes\u001b[0m\u001b[1;33m[\u001b[0m\u001b[1;34m\"ok\"\u001b[0m\u001b[1;33m]\u001b[0m\u001b[1;33m,\u001b[0m \u001b[1;33m**\u001b[0m\u001b[0mdata\u001b[0m\u001b[1;33m)\u001b[0m\u001b[1;33m:\u001b[0m\u001b[1;33m\u001b[0m\u001b[1;33m\u001b[0m\u001b[0m\n\u001b[1;32m---> 30\u001b[1;33m         response = self._requestor.request(\n\u001b[0m\u001b[0;32m     31\u001b[0m             \u001b[1;34m\"post\"\u001b[0m\u001b[1;33m,\u001b[0m\u001b[1;33m\u001b[0m\u001b[1;33m\u001b[0m\u001b[0m\n\u001b[0;32m     32\u001b[0m             \u001b[0murl\u001b[0m\u001b[1;33m,\u001b[0m\u001b[1;33m\u001b[0m\u001b[1;33m\u001b[0m\u001b[0m\n",
      "\u001b[1;32m~\\AppData\\Local\\Programs\\Python\\Python39\\lib\\site-packages\\prawcore\\requestor.py\u001b[0m in \u001b[0;36mrequest\u001b[1;34m(self, timeout, *args, **kwargs)\u001b[0m\n\u001b[0;32m     56\u001b[0m         \u001b[1;34m\"\"\"Issue the HTTP request capturing any errors that may occur.\"\"\"\u001b[0m\u001b[1;33m\u001b[0m\u001b[1;33m\u001b[0m\u001b[0m\n\u001b[0;32m     57\u001b[0m         \u001b[1;32mtry\u001b[0m\u001b[1;33m:\u001b[0m\u001b[1;33m\u001b[0m\u001b[1;33m\u001b[0m\u001b[0m\n\u001b[1;32m---> 58\u001b[1;33m             return self._http.request(\n\u001b[0m\u001b[0;32m     59\u001b[0m                 \u001b[1;33m*\u001b[0m\u001b[0margs\u001b[0m\u001b[1;33m,\u001b[0m \u001b[0mtimeout\u001b[0m\u001b[1;33m=\u001b[0m\u001b[0mtimeout\u001b[0m \u001b[1;32mor\u001b[0m \u001b[0mself\u001b[0m\u001b[1;33m.\u001b[0m\u001b[0mtimeout\u001b[0m\u001b[1;33m,\u001b[0m \u001b[1;33m**\u001b[0m\u001b[0mkwargs\u001b[0m\u001b[1;33m\u001b[0m\u001b[1;33m\u001b[0m\u001b[0m\n\u001b[0;32m     60\u001b[0m             )\n",
      "\u001b[1;32m~\\AppData\\Local\\Programs\\Python\\Python39\\lib\\site-packages\\requests\\sessions.py\u001b[0m in \u001b[0;36mrequest\u001b[1;34m(self, method, url, params, data, headers, cookies, files, auth, timeout, allow_redirects, proxies, hooks, stream, verify, cert, json)\u001b[0m\n\u001b[0;32m    540\u001b[0m         }\n\u001b[0;32m    541\u001b[0m         \u001b[0msend_kwargs\u001b[0m\u001b[1;33m.\u001b[0m\u001b[0mupdate\u001b[0m\u001b[1;33m(\u001b[0m\u001b[0msettings\u001b[0m\u001b[1;33m)\u001b[0m\u001b[1;33m\u001b[0m\u001b[1;33m\u001b[0m\u001b[0m\n\u001b[1;32m--> 542\u001b[1;33m         \u001b[0mresp\u001b[0m \u001b[1;33m=\u001b[0m \u001b[0mself\u001b[0m\u001b[1;33m.\u001b[0m\u001b[0msend\u001b[0m\u001b[1;33m(\u001b[0m\u001b[0mprep\u001b[0m\u001b[1;33m,\u001b[0m \u001b[1;33m**\u001b[0m\u001b[0msend_kwargs\u001b[0m\u001b[1;33m)\u001b[0m\u001b[1;33m\u001b[0m\u001b[1;33m\u001b[0m\u001b[0m\n\u001b[0m\u001b[0;32m    543\u001b[0m \u001b[1;33m\u001b[0m\u001b[0m\n\u001b[0;32m    544\u001b[0m         \u001b[1;32mreturn\u001b[0m \u001b[0mresp\u001b[0m\u001b[1;33m\u001b[0m\u001b[1;33m\u001b[0m\u001b[0m\n",
      "\u001b[1;32m~\\AppData\\Local\\Programs\\Python\\Python39\\lib\\site-packages\\requests\\sessions.py\u001b[0m in \u001b[0;36msend\u001b[1;34m(self, request, **kwargs)\u001b[0m\n\u001b[0;32m    653\u001b[0m \u001b[1;33m\u001b[0m\u001b[0m\n\u001b[0;32m    654\u001b[0m         \u001b[1;31m# Send the request\u001b[0m\u001b[1;33m\u001b[0m\u001b[1;33m\u001b[0m\u001b[0m\n\u001b[1;32m--> 655\u001b[1;33m         \u001b[0mr\u001b[0m \u001b[1;33m=\u001b[0m \u001b[0madapter\u001b[0m\u001b[1;33m.\u001b[0m\u001b[0msend\u001b[0m\u001b[1;33m(\u001b[0m\u001b[0mrequest\u001b[0m\u001b[1;33m,\u001b[0m \u001b[1;33m**\u001b[0m\u001b[0mkwargs\u001b[0m\u001b[1;33m)\u001b[0m\u001b[1;33m\u001b[0m\u001b[1;33m\u001b[0m\u001b[0m\n\u001b[0m\u001b[0;32m    656\u001b[0m \u001b[1;33m\u001b[0m\u001b[0m\n\u001b[0;32m    657\u001b[0m         \u001b[1;31m# Total elapsed time of the request (approximately)\u001b[0m\u001b[1;33m\u001b[0m\u001b[1;33m\u001b[0m\u001b[0m\n",
      "\u001b[1;32m~\\AppData\\Local\\Programs\\Python\\Python39\\lib\\site-packages\\requests\\adapters.py\u001b[0m in \u001b[0;36msend\u001b[1;34m(self, request, stream, timeout, verify, cert, proxies)\u001b[0m\n\u001b[0;32m    437\u001b[0m         \u001b[1;32mtry\u001b[0m\u001b[1;33m:\u001b[0m\u001b[1;33m\u001b[0m\u001b[1;33m\u001b[0m\u001b[0m\n\u001b[0;32m    438\u001b[0m             \u001b[1;32mif\u001b[0m \u001b[1;32mnot\u001b[0m \u001b[0mchunked\u001b[0m\u001b[1;33m:\u001b[0m\u001b[1;33m\u001b[0m\u001b[1;33m\u001b[0m\u001b[0m\n\u001b[1;32m--> 439\u001b[1;33m                 resp = conn.urlopen(\n\u001b[0m\u001b[0;32m    440\u001b[0m                     \u001b[0mmethod\u001b[0m\u001b[1;33m=\u001b[0m\u001b[0mrequest\u001b[0m\u001b[1;33m.\u001b[0m\u001b[0mmethod\u001b[0m\u001b[1;33m,\u001b[0m\u001b[1;33m\u001b[0m\u001b[1;33m\u001b[0m\u001b[0m\n\u001b[0;32m    441\u001b[0m                     \u001b[0murl\u001b[0m\u001b[1;33m=\u001b[0m\u001b[0murl\u001b[0m\u001b[1;33m,\u001b[0m\u001b[1;33m\u001b[0m\u001b[1;33m\u001b[0m\u001b[0m\n",
      "\u001b[1;32m~\\AppData\\Local\\Programs\\Python\\Python39\\lib\\site-packages\\urllib3\\connectionpool.py\u001b[0m in \u001b[0;36murlopen\u001b[1;34m(self, method, url, body, headers, retries, redirect, assert_same_host, timeout, pool_timeout, release_conn, chunked, body_pos, **response_kw)\u001b[0m\n\u001b[0;32m    697\u001b[0m \u001b[1;33m\u001b[0m\u001b[0m\n\u001b[0;32m    698\u001b[0m             \u001b[1;31m# Make the request on the httplib connection object.\u001b[0m\u001b[1;33m\u001b[0m\u001b[1;33m\u001b[0m\u001b[0m\n\u001b[1;32m--> 699\u001b[1;33m             httplib_response = self._make_request(\n\u001b[0m\u001b[0;32m    700\u001b[0m                 \u001b[0mconn\u001b[0m\u001b[1;33m,\u001b[0m\u001b[1;33m\u001b[0m\u001b[1;33m\u001b[0m\u001b[0m\n\u001b[0;32m    701\u001b[0m                 \u001b[0mmethod\u001b[0m\u001b[1;33m,\u001b[0m\u001b[1;33m\u001b[0m\u001b[1;33m\u001b[0m\u001b[0m\n",
      "\u001b[1;32m~\\AppData\\Local\\Programs\\Python\\Python39\\lib\\site-packages\\urllib3\\connectionpool.py\u001b[0m in \u001b[0;36m_make_request\u001b[1;34m(self, conn, method, url, timeout, chunked, **httplib_request_kw)\u001b[0m\n\u001b[0;32m    380\u001b[0m         \u001b[1;31m# Trigger any extra validation we need to do.\u001b[0m\u001b[1;33m\u001b[0m\u001b[1;33m\u001b[0m\u001b[0m\n\u001b[0;32m    381\u001b[0m         \u001b[1;32mtry\u001b[0m\u001b[1;33m:\u001b[0m\u001b[1;33m\u001b[0m\u001b[1;33m\u001b[0m\u001b[0m\n\u001b[1;32m--> 382\u001b[1;33m             \u001b[0mself\u001b[0m\u001b[1;33m.\u001b[0m\u001b[0m_validate_conn\u001b[0m\u001b[1;33m(\u001b[0m\u001b[0mconn\u001b[0m\u001b[1;33m)\u001b[0m\u001b[1;33m\u001b[0m\u001b[1;33m\u001b[0m\u001b[0m\n\u001b[0m\u001b[0;32m    383\u001b[0m         \u001b[1;32mexcept\u001b[0m \u001b[1;33m(\u001b[0m\u001b[0mSocketTimeout\u001b[0m\u001b[1;33m,\u001b[0m \u001b[0mBaseSSLError\u001b[0m\u001b[1;33m)\u001b[0m \u001b[1;32mas\u001b[0m \u001b[0me\u001b[0m\u001b[1;33m:\u001b[0m\u001b[1;33m\u001b[0m\u001b[1;33m\u001b[0m\u001b[0m\n\u001b[0;32m    384\u001b[0m             \u001b[1;31m# Py2 raises this as a BaseSSLError, Py3 raises it as socket timeout.\u001b[0m\u001b[1;33m\u001b[0m\u001b[1;33m\u001b[0m\u001b[0m\n",
      "\u001b[1;32m~\\AppData\\Local\\Programs\\Python\\Python39\\lib\\site-packages\\urllib3\\connectionpool.py\u001b[0m in \u001b[0;36m_validate_conn\u001b[1;34m(self, conn)\u001b[0m\n\u001b[0;32m   1008\u001b[0m         \u001b[1;31m# Force connect early to allow us to validate the connection.\u001b[0m\u001b[1;33m\u001b[0m\u001b[1;33m\u001b[0m\u001b[0m\n\u001b[0;32m   1009\u001b[0m         \u001b[1;32mif\u001b[0m \u001b[1;32mnot\u001b[0m \u001b[0mgetattr\u001b[0m\u001b[1;33m(\u001b[0m\u001b[0mconn\u001b[0m\u001b[1;33m,\u001b[0m \u001b[1;34m\"sock\"\u001b[0m\u001b[1;33m,\u001b[0m \u001b[1;32mNone\u001b[0m\u001b[1;33m)\u001b[0m\u001b[1;33m:\u001b[0m  \u001b[1;31m# AppEngine might not have  `.sock`\u001b[0m\u001b[1;33m\u001b[0m\u001b[1;33m\u001b[0m\u001b[0m\n\u001b[1;32m-> 1010\u001b[1;33m             \u001b[0mconn\u001b[0m\u001b[1;33m.\u001b[0m\u001b[0mconnect\u001b[0m\u001b[1;33m(\u001b[0m\u001b[1;33m)\u001b[0m\u001b[1;33m\u001b[0m\u001b[1;33m\u001b[0m\u001b[0m\n\u001b[0m\u001b[0;32m   1011\u001b[0m \u001b[1;33m\u001b[0m\u001b[0m\n\u001b[0;32m   1012\u001b[0m         \u001b[1;32mif\u001b[0m \u001b[1;32mnot\u001b[0m \u001b[0mconn\u001b[0m\u001b[1;33m.\u001b[0m\u001b[0mis_verified\u001b[0m\u001b[1;33m:\u001b[0m\u001b[1;33m\u001b[0m\u001b[1;33m\u001b[0m\u001b[0m\n",
      "\u001b[1;32m~\\AppData\\Local\\Programs\\Python\\Python39\\lib\\site-packages\\urllib3\\connection.py\u001b[0m in \u001b[0;36mconnect\u001b[1;34m(self)\u001b[0m\n\u001b[0;32m    356\u001b[0m     \u001b[1;32mdef\u001b[0m \u001b[0mconnect\u001b[0m\u001b[1;33m(\u001b[0m\u001b[0mself\u001b[0m\u001b[1;33m)\u001b[0m\u001b[1;33m:\u001b[0m\u001b[1;33m\u001b[0m\u001b[1;33m\u001b[0m\u001b[0m\n\u001b[0;32m    357\u001b[0m         \u001b[1;31m# Add certificate verification\u001b[0m\u001b[1;33m\u001b[0m\u001b[1;33m\u001b[0m\u001b[0m\n\u001b[1;32m--> 358\u001b[1;33m         \u001b[0mconn\u001b[0m \u001b[1;33m=\u001b[0m \u001b[0mself\u001b[0m\u001b[1;33m.\u001b[0m\u001b[0m_new_conn\u001b[0m\u001b[1;33m(\u001b[0m\u001b[1;33m)\u001b[0m\u001b[1;33m\u001b[0m\u001b[1;33m\u001b[0m\u001b[0m\n\u001b[0m\u001b[0;32m    359\u001b[0m         \u001b[0mhostname\u001b[0m \u001b[1;33m=\u001b[0m \u001b[0mself\u001b[0m\u001b[1;33m.\u001b[0m\u001b[0mhost\u001b[0m\u001b[1;33m\u001b[0m\u001b[1;33m\u001b[0m\u001b[0m\n\u001b[0;32m    360\u001b[0m         \u001b[0mtls_in_tls\u001b[0m \u001b[1;33m=\u001b[0m \u001b[1;32mFalse\u001b[0m\u001b[1;33m\u001b[0m\u001b[1;33m\u001b[0m\u001b[0m\n",
      "\u001b[1;32m~\\AppData\\Local\\Programs\\Python\\Python39\\lib\\site-packages\\urllib3\\connection.py\u001b[0m in \u001b[0;36m_new_conn\u001b[1;34m(self)\u001b[0m\n\u001b[0;32m    172\u001b[0m \u001b[1;33m\u001b[0m\u001b[0m\n\u001b[0;32m    173\u001b[0m         \u001b[1;32mtry\u001b[0m\u001b[1;33m:\u001b[0m\u001b[1;33m\u001b[0m\u001b[1;33m\u001b[0m\u001b[0m\n\u001b[1;32m--> 174\u001b[1;33m             conn = connection.create_connection(\n\u001b[0m\u001b[0;32m    175\u001b[0m                 \u001b[1;33m(\u001b[0m\u001b[0mself\u001b[0m\u001b[1;33m.\u001b[0m\u001b[0m_dns_host\u001b[0m\u001b[1;33m,\u001b[0m \u001b[0mself\u001b[0m\u001b[1;33m.\u001b[0m\u001b[0mport\u001b[0m\u001b[1;33m)\u001b[0m\u001b[1;33m,\u001b[0m \u001b[0mself\u001b[0m\u001b[1;33m.\u001b[0m\u001b[0mtimeout\u001b[0m\u001b[1;33m,\u001b[0m \u001b[1;33m**\u001b[0m\u001b[0mextra_kw\u001b[0m\u001b[1;33m\u001b[0m\u001b[1;33m\u001b[0m\u001b[0m\n\u001b[0;32m    176\u001b[0m             )\n",
      "\u001b[1;31mKeyboardInterrupt\u001b[0m: "
     ]
    }
   ],
   "source": [
    "# Refactor for\n",
    "for key in diff:\n",
    "    origin, id = key.split('@ ')\n",
    "    idx = id.index('/r/')+3\n",
    "    id=id[idx:]\n",
    "    print(id)\n",
    "    if 'x0' in key:\n",
    "        key = key.replace('x0','')\n",
    "\n",
    "    # Convert to list\n",
    "    data = []\n",
    "    mt = top_comments[key]\n",
    "    for i in mt:\n",
    "        data.append(reddit.comment(i))\n",
    "    # Remove tags from comments\n",
    "    data = [re.sub('\\S*@\\S*\\s?', '', sent.body) for sent in data]\n",
    "\n",
    "    # Remove new line characters\n",
    "    data = [re.sub('\\s+', ' ', sent) for sent in data]\n",
    "\n",
    "    # Remove distracting single quotes\n",
    "    data = [re.sub(\"\\'\", \"\", sent) for sent in data]\n",
    "\n",
    "    # Tokenizing the text\n",
    "    data_words = list(sent_to_words(data))\n",
    "\n",
    "    # Build the bigram and trigram models\n",
    "    bigram = gensim.models.Phrases(data_words, min_count=5, threshold=100) # higher threshold fewer phrases.\n",
    "    trigram = gensim.models.Phrases(bigram[data_words], threshold=100)  \n",
    "\n",
    "    # Faster way to get a sentence clubbed as a trigram/bigram\n",
    "    bigram_mod = gensim.models.phrases.Phraser(bigram)\n",
    "    trigram_mod = gensim.models.phrases.Phraser(trigram)\n",
    "\n",
    "    # Remove Stop Words\n",
    "    data_words_nostops = remove_stopwords(data_words)\n",
    "\n",
    "    # Form Bigrams\n",
    "    data_words_bigrams = make_bigrams(data_words_nostops)\n",
    "\n",
    "    # Initialize spacy 'en' model, keeping only tagger component (for efficiency)\n",
    "    # python3 -m spacy download en\n",
    "    nlp = spacy.load('en_core_web_sm', disable=['parser', 'ner'])\n",
    "\n",
    "    # Do lemmatization keeping only noun, adj, vb, adv\n",
    "    data_lemmatized = lemmatization(data_words_bigrams, allowed_postags=['NOUN', 'ADJ', 'VERB', 'ADV'])\n",
    "\n",
    "    # Create Dictionary\n",
    "    id2word = corpora.Dictionary(data_lemmatized)\n",
    "\n",
    "    # Create Corpus\n",
    "    texts = data_lemmatized\n",
    "\n",
    "    # Term Document Frequency\n",
    "    corpus = [id2word.doc2bow(text) for text in texts]\n",
    "\n",
    "    # Human readable format of corpus (term-frequency)\n",
    "    [[(id2word[id], freq) for id, freq in cp] for cp in corpus[:1]]\n",
    "\n",
    "    if corpus != [] and corpus != [[]]:\n",
    "        # Build LDA model\n",
    "        lda_model = gensim.models.ldamodel.LdaModel(corpus=corpus,\n",
    "                                                id2word=id2word,\n",
    "                                                num_topics=10, \n",
    "                                                random_state=100,\n",
    "                                                update_every=1,\n",
    "                                                chunksize=100,\n",
    "                                                passes=10,\n",
    "                                                alpha='auto',\n",
    "                                                per_word_topics=True)\n",
    "\n",
    "        # Print the Keyword in the 10 topics\n",
    "        print('check2', key)\n",
    "        try:\n",
    "            origin= origin.split('\\\\')[1]\n",
    "        except:\n",
    "            origin = origin.split('level')[1]\n",
    "        index = []\n",
    "        topics = {}\n",
    "        list_topics=lda_model.print_topics()\n",
    "        for i in list_topics:\n",
    "            for value in range(len(list_topics)):\n",
    "                to_add = []\n",
    "                for el in list_topics[value][1].split('+'):\n",
    "                    start = el.index('\"')\n",
    "                    word = el[start+1:-2]             \n",
    "                    to_add.append(word)\n",
    "                topics[value] = to_add\n",
    "\n",
    "        \n",
    "        df_topic = pd.DataFrame(topics)\n",
    "        done = pd.read_csv('done.csv', encoding='utf8')\n",
    "        done.insert(0,key,'NaN')\n",
    "        done.to_csv('done.csv' ,encoding='utf8', mode='w')\n",
    "\n",
    "        for row in df_topic.index:\n",
    "            index.append(origin)\n",
    "        df_topic['origin'] = index\n",
    "        if os.path.isfile(r\"results/topic_models/\"+ id + '.csv'):\n",
    "            df_topic.to_csv(r\"results/topic_models/\"+ id + '.csv', mode='a')\n",
    "        else:\n",
    "            df_topic.set_index('origin', inplace=True)\n",
    "            df_topic.to_csv(r\"results/topic_models/\"+ id + '.csv')\n",
    "        #pprint(lda_model.print_topics())\n",
    "    else: \n",
    "        print (key + \" is done.\")\n"
   ]
  },
  {
   "cell_type": "markdown",
   "metadata": {},
   "source": [
    "The resulting csv file will contain the topics of crossposts.\n",
    "# RIFAI CONTANDO DA DOVE PARTE\n",
    "### Sentiment Analysis\n",
    "Sentiment analysis is the computational study of people's emotions expressed in text. In our case we used the popular VADER sentiment analyser, an analyser especially created for social networks (in particular, it was based off Twitter). The result of each comment's analysis will be a number between -1 and 1, depending on whether the comment is perceived as negative or positive."
   ]
  },
  {
   "cell_type": "code",
   "execution_count": null,
   "metadata": {},
   "outputs": [],
   "source": [
    "#nltk.download(['stopwords', \"vader_lexicon\"]) # Do this the first time you run this script."
   ]
  },
  {
   "cell_type": "code",
   "execution_count": null,
   "metadata": {},
   "outputs": [],
   "source": [
    "from nltk.sentiment.vader import SentimentIntensityAnalyzer\n",
    "from statistics import mean\n",
    "sent = SentimentIntensityAnalyzer()\n",
    "sentiment_values = list()\n",
    "for post in top_comments_list:\n",
    "    post_sentiment = [] # median sentiment\n",
    "\n",
    "    for comment in post['comments']:\n",
    "        body = comment.body\n",
    "        if not \"I'm a bot\" in body and not 'I am a bot' in body:\n",
    "            for reply in comment.replies:\n",
    "                if not \"I'm a bot\" in reply.body and not 'I am a bot' in reply.body:\n",
    "                    body += reply.body\n",
    "                for second_reply in reply.replies:\n",
    "                    if not \"I'm a bot\" in second_reply.body and not 'I am a bot' in second_reply.body:\n",
    "                        body += second_reply.body\n",
    "            val = sent.polarity_scores(body)['compound']\n",
    "            post_sentiment.append(val)\n",
    "    try:\n",
    "        post_sentiment = mean(post_sentiment)\n",
    "    except:\n",
    "        post_sentiment = 0\n",
    "    sentiment_values.append({'sentiment': post_sentiment,'permalink': post['permalink'],'posted_in': post['target'], 'posted_from':post['posted_from']})"
   ]
  },
  {
   "cell_type": "code",
   "execution_count": null,
   "metadata": {},
   "outputs": [],
   "source": [
    "sentiment_df = pd.DataFrame(sentiment_values, index='posted_in')\n",
    "sentiment_df.to_csv('results/sentiment/sentiment.csv')"
   ]
  }
 ],
 "metadata": {
  "interpreter": {
   "hash": "d65f8af9b1347936d5c0a715a1a101b7602968bee42a1bc2161adfc924f1cbb0"
  },
  "kernelspec": {
   "display_name": "Python 3.9.9 64-bit",
   "language": "python",
   "name": "python3"
  },
  "language_info": {
   "codemirror_mode": {
    "name": "ipython",
    "version": 3
   },
   "file_extension": ".py",
   "mimetype": "text/x-python",
   "name": "python",
   "nbconvert_exporter": "python",
   "pygments_lexer": "ipython3",
   "version": "3.9.9"
  },
  "orig_nbformat": 4
 },
 "nbformat": 4,
 "nbformat_minor": 2
}
