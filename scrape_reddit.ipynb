{
 "cells": [
  {
   "cell_type": "markdown",
   "metadata": {},
   "source": [
    "# Reddit Scraping\n",
    "In order to scrape posts from Reddit, we used the [`praw` python library](https://github.com/praw-dev/praw). \n",
    "In order to use that, we need:\n",
    "- a Reddit account.\n",
    "- a Reddit app ([here](https://www.reddit.com/prefs/apps) you can create one). Here you'll find the client id under the app name once you create it, as well as the client secret and the user agent, which is your app name.\n",
    "\n",
    "Once we have those, we can access reddit from the terminal using these steps(it is also possible to access as a user by adding username and account if you want to use it in write mode):"
   ]
  },
  {
   "cell_type": "code",
   "execution_count": 1,
   "metadata": {},
   "outputs": [],
   "source": [
    "#pip install praw\n",
    "import praw\n",
    "reddit = praw.Reddit(client_id='xSEBvh4afPIXiJ5RE07K0g', client_secret='iTMyTT4CR8gDckcwbzy2ZyoqxQgwiA', user_agent='scrape_analysis')"
   ]
  },
  {
   "cell_type": "markdown",
   "metadata": {},
   "source": [
    "We can analyse posts, post requirements etc. for a single subreddit or for all of them(by using the subreddit 'all'); we can also select top posts or do searches. \n",
    "# sistemare data utc"
   ]
  },
  {
   "cell_type": "code",
   "execution_count": 15,
   "metadata": {},
   "outputs": [
    {
     "name": "stdout",
     "output_type": "stream",
     "text": [
      "Humans ... Author: beautifulplanet Link: https://www.reddit.com/r/funny/comments/skap0y/humans/ Subreddit: r/funny Upvote Ratio: 0.82 Date: 1643972642.0\n",
      "A newlywed couple was enjoying their first dance when suddenly someone unexpectedly joined them. Author: Arl107 Link: https://www.reddit.com/r/MadeMeSmile/comments/skaiwx/a_newlywed_couple_was_enjoying_their_first_dance/ Subreddit: r/MadeMeSmile Upvote Ratio: 0.96 Date: 1643972046.0\n",
      "These calls don’t ever end like that for me Author: daaaangdood Link: https://www.reddit.com/r/Unexpected/comments/sk8x76/these_calls_dont_ever_end_like_that_for_me/ Subreddit: r/Unexpected Upvote Ratio: 0.94 Date: 1643965794.0\n",
      "Falling into the abyss Author: YoutubeMaikEyy Link: https://www.reddit.com/r/memes/comments/ska4m5/falling_into_the_abyss/ Subreddit: r/memes Upvote Ratio: 0.94 Date: 1643970517.0\n",
      "Murica really gunning for least educated Author: FlameOfGod Link: https://www.reddit.com/r/facepalm/comments/skamo7/murica_really_gunning_for_least_educated/ Subreddit: r/facepalm Upvote Ratio: 0.96 Date: 1643972429.0\n"
     ]
    }
   ],
   "source": [
    "for i in reddit.subreddit('all').top(limit=5): #this will print the top posts all time\n",
    "    print(i.title + ' Author: ' + i.author.name +  ' Link: https://www.reddit.com' + i.permalink + ' Subreddit: r/' + i.subreddit.display_name + ' Upvote Ratio: ' + str(i.upvote_ratio) + ' Date: '+str(i.created_utc))\n"
   ]
  }
 ],
 "metadata": {
  "interpreter": {
   "hash": "d65f8af9b1347936d5c0a715a1a101b7602968bee42a1bc2161adfc924f1cbb0"
  },
  "kernelspec": {
   "display_name": "Python 3.9.9 64-bit",
   "language": "python",
   "name": "python3"
  },
  "language_info": {
   "codemirror_mode": {
    "name": "ipython",
    "version": 3
   },
   "file_extension": ".py",
   "mimetype": "text/x-python",
   "name": "python",
   "nbconvert_exporter": "python",
   "pygments_lexer": "ipython3",
   "version": "3.9.9"
  },
  "orig_nbformat": 4
 },
 "nbformat": 4,
 "nbformat_minor": 2
}
