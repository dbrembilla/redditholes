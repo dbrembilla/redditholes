{
 "cells": [
  {
   "cell_type": "code",
   "execution_count": null,
   "metadata": {},
   "outputs": [],
   "source": [
    "#Selecting 5 most popular reddit post titles\n",
    "\n",
    "import praw\n",
    "from prawcore.exceptions import Forbidden\n",
    "reddit = praw.Reddit(client_id = \"lfdF-I0nP51611Fidk3OQw\", client_secret= \"MShIIjVvaY-WZIdvvB-qTCWZ9dPhZw\", user_agent= \"epds_project\")\n",
    "for post in reddit.subreddit(\"all\").top(limit = 5):\n",
    "    print (post.title)"
   ]
  }
 ],
 "metadata": {
  "language_info": {
   "name": "python"
  },
  "orig_nbformat": 4
 },
 "nbformat": 4,
 "nbformat_minor": 2
}
