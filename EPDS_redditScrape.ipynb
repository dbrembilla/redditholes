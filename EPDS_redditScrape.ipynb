{
 "cells": [
  {
   "cell_type": "markdown",
   "metadata": {},
   "source": [
    "# Scraping posts from r/conspiracy\n",
    "\n",
    "Extraction of all the posts resent in r/conspiracy, with title, content and url.\n",
    "First of all we need to import praw and access reddit:"
   ]
  },
  {
   "cell_type": "code",
   "execution_count": 2,
   "metadata": {},
   "outputs": [],
   "source": [
    "import praw\n",
    "reddit = praw.Reddit(client_id = \"\", client_secret= \"\", user_agent= \"\")"
   ]
  },
  {
   "cell_type": "markdown",
   "metadata": {},
   "source": [
    "We can now access the subreddit, extract all the posts in it adn check which other subreddit reposted that posts and how much:"
   ]
  },
  {
   "cell_type": "code",
   "execution_count": 3,
   "metadata": {},
   "outputs": [
    {
     "name": "stdout",
     "output_type": "stream",
     "text": [
      "{'https://www.reddit.com/r/TopMindsOfReddit': ['https://www.reddit.com/r/TopMindsOfReddit/comments/ctpf6s/rconspiracy_china_is_censoring_reddit_they_remove/', 'https://www.reddit.com/r/TopMindsOfReddit/comments/coi2d7/you_know_im_gonna_give_top_minds_this_one/', 'https://www.reddit.com/r/TopMindsOfReddit/comments/coit6q/top_mind_has_some_top_advice_for_the_children_and/', 'https://www.reddit.com/r/TopMindsOfReddit/comments/bb2ywp/top_conspiratards_claim_reddit_is_censoring_again/', 'https://www.reddit.com/r/TopMindsOfReddit/comments/hpr4dq/top_nazis_of_rconspiracy_discuss_jews_they_dont/', 'https://www.reddit.com/r/TopMindsOfReddit/comments/98dft6/top_minds_have_been_confronted_with_evidence_of/', 'https://www.reddit.com/r/TopMindsOfReddit/comments/itaied/daddy_gave_us_hemp_and_1200_beta_bucks_why_does/', 'https://www.reddit.com/r/TopMindsOfReddit/comments/dfknjn/weve_gone_off_the_deep_end_of_the_rainbow_ive/', 'https://www.reddit.com/r/TopMindsOfReddit/comments/df2pyh/brave_rconspiracy_commenter_is_not_afraid_to/', 'https://www.reddit.com/r/TopMindsOfReddit/comments/hpyf1f/top_mind_shifts_goal_posts_blames_clinton_for/', 'https://www.reddit.com/r/TopMindsOfReddit/comments/rdj37q/top_minds_get_horny_in_the_comments_when/', 'https://www.reddit.com/r/TopMindsOfReddit/comments/ft0ej3/top_terrorist_absolutely_disgusting_and_i_cant/'], 'https://www.reddit.com/r/Chinesetyranny': ['https://www.reddit.com/r/Chinesetyranny/comments/ctkpz0/this_rare_image_featuring_the_victims_of_the_mass/'], 'https://www.reddit.com/r/TopConspiracy': ['https://www.reddit.com/r/TopConspiracy/comments/88ne8z/this_was_deleted_twice_from_reddits_front_page/', 'https://www.reddit.com/r/TopConspiracy/comments/doqncy/reminder_80_days_ago_a_billionaire_pedophile/', 'https://www.reddit.com/r/TopConspiracy/comments/g5e8xs/do_you_remember/', 'https://www.reddit.com/r/TopConspiracy/comments/ea8176/90_of_modern_art_is_just_tax_evasion/', 'https://www.reddit.com/r/TopConspiracy/comments/i6wafc/good_question/', 'https://www.reddit.com/r/TopConspiracy/comments/mpg112/remember_whos_really_responsible_and_hold_them/', 'https://www.reddit.com/r/TopConspiracy/comments/coi0le/sources_jeffrey_epstein_dies_by_suicide_in/', 'https://www.reddit.com/r/TopConspiracy/comments/fwycu4/ive_never_been_so_happy_to_see_tbe_front_page_of/', 'https://www.reddit.com/r/TopConspiracy/comments/dg4hd1/this_image_is_illegal_in_china_tiananmen_square/', 'https://www.reddit.com/r/TopConspiracy/comments/k86j45/andrew_yang_on_twitter_airlines_got_25_billion_in/', 'https://www.reddit.com/r/TopConspiracy/comments/dr4caf/dont_let_this_die_shes_a_confirmed_child_sex/', 'https://www.reddit.com/r/TopConspiracy/comments/dm3iyo/i_just_got_permanently_banned_from/', 'https://www.reddit.com/r/TopConspiracy/comments/huzvrb/happening_epstein_fedex_assassin_and_epstein/', 'https://www.reddit.com/r/TopConspiracy/comments/l7gcdx/immortal_technique_coming_in_with_the_hot_take/', 'https://www.reddit.com/r/TopConspiracy/comments/hsxhq1/wonka_knows/', 'https://www.reddit.com/r/TopConspiracy/comments/99xnrw/people_seem_to_have_forgotten_all_this_dont/', 'https://www.reddit.com/r/TopConspiracy/comments/hqtvp0/you_in/', 'https://www.reddit.com/r/TopConspiracy/comments/okztx7/the_true_conspiracy_that_is_happening_in_broad/', 'https://www.reddit.com/r/TopConspiracy/comments/cw50ap/reddit_recently_accepted_a_150m_donation_from_a/', 'https://www.reddit.com/r/TopConspiracy/comments/mrfmxv/this_is_the_attitude_we_should_take_when_it_comes/', 'https://www.reddit.com/r/TopConspiracy/comments/f0glxa/4chan_user_finds_evidence_of_over_13k_bodies/', 'https://www.reddit.com/r/TopConspiracy/comments/bav7ym/reddit_actively_removing_video_of_chinese_police/', 'https://www.reddit.com/r/TopConspiracy/comments/hpcp6k/scums_of_the_earth/', 'https://www.reddit.com/r/TopConspiracy/comments/98ctmz/on_the_left_is_the_former_vice_president_of/', 'https://www.reddit.com/r/TopConspiracy/comments/c6zz95/this_was_just_censored_from_the_1_spot_on_rall/', 'https://www.reddit.com/r/TopConspiracy/comments/hjxu2l/ghislane_maxwell_longtime_friend_and_confidante/', 'https://www.reddit.com/r/TopConspiracy/comments/exzn8d/due_to_verizons_super_bowl_ad_remember_that_in/', 'https://www.reddit.com/r/TopConspiracy/comments/iia2t6/its_like_it_never_even_happened/', 'https://www.reddit.com/r/TopConspiracy/comments/l94b6b/the_rabbit_hole_is_deep/', 'https://www.reddit.com/r/TopConspiracy/comments/huga1b/gunman_kills_son_of_federal_judge_esther_salas_at/', 'https://www.reddit.com/r/TopConspiracy/comments/gv857m/we_can_make_use_of_the_weapons_they_force_on_us/', 'https://www.reddit.com/r/TopConspiracy/comments/d2203k/dont_let_this_die_shes_a_confirmed_child_sex/', 'https://www.reddit.com/r/TopConspiracy/comments/gncl5j/hello_coconspirators_this_is_your_daily_reminder/', 'https://www.reddit.com/r/TopConspiracy/comments/it8l54/always_ask_for_a_receipt/', 'https://www.reddit.com/r/TopConspiracy/comments/98tge9/til_during_the_2013_california_drought_nestle/', 'https://www.reddit.com/r/TopConspiracy/comments/d74qqx/your_move_ladies_and_gents/', 'https://www.reddit.com/r/TopConspiracy/comments/fr7msb/biden_sexual_assault_coverup/', 'https://www.reddit.com/r/TopConspiracy/comments/dfhvyu/subtle_ways_to_drive_the_media_narrative_and_they/', 'https://www.reddit.com/r/TopConspiracy/comments/i940sc/this_is_the_attitude_we_should_take_when_it_comes/', 'https://www.reddit.com/r/TopConspiracy/comments/df1wf5/reddit_aggressively_censoring_content_critical_of/', 'https://www.reddit.com/r/TopConspiracy/comments/hf528a/ah_the_good_old_days/', 'https://www.reddit.com/r/TopConspiracy/comments/gsdx8d/is_rconspiracy_surprised/', 'https://www.reddit.com/r/TopConspiracy/comments/cowz7h/proven_conspiracies_in_light_of_epsteinss_suicide/', 'https://www.reddit.com/r/TopConspiracy/comments/klg1qc/remember_whos_really_responsible_and_hold_them/', 'https://www.reddit.com/r/TopConspiracy/comments/hpx0zn/aubrey_spitting_facts/', 'https://www.reddit.com/r/TopConspiracy/comments/dvyrf8/congress_gets_a_lot_done_actually/', 'https://www.reddit.com/r/TopConspiracy/comments/kh9vpn/tax_dollars_well_spent/', 'https://www.reddit.com/r/TopConspiracy/comments/rdivps/yesterday_the_atlantic_put_out_an_article/', 'https://www.reddit.com/r/TopConspiracy/comments/l1psp2/finally_no_more_kids_in_cages/', 'https://www.reddit.com/r/TopConspiracy/comments/ezc0d1/judge_demands_answers_from_jeffrey_epsteins/', 'https://www.reddit.com/r/TopConspiracy/comments/gwo3p5/they_view_us_as_pawns_dont_forget_that/', 'https://www.reddit.com/r/TopConspiracy/comments/f2xv5z/everyone_disliked_that/', 'https://www.reddit.com/r/TopConspiracy/comments/fshrkp/its_been_nearly_a_week_since_former_joe_biden/', 'https://www.reddit.com/r/TopConspiracy/comments/o9xxn2/welcome_to_2021_where_multi_billion_dollar_oil/', 'https://www.reddit.com/r/TopConspiracy/comments/i8u0b3/just_a_reminder/', 'https://www.reddit.com/r/TopConspiracy/comments/ms44w6/surprised_no_one_talks_about_this_here/', 'https://www.reddit.com/r/TopConspiracy/comments/ic8tyg/newly_leaked_photo_of_chauntae_davies_a_jeffrey/', 'https://www.reddit.com/r/TopConspiracy/comments/g87k91/cnn_removed_the_august_11th_1993_larry_king/', 'https://www.reddit.com/r/TopConspiracy/comments/ltp1uw/new_year_new_president_same_old_shit/', 'https://www.reddit.com/r/TopConspiracy/comments/g8h5y9/critics_are_on_the_take/', 'https://www.reddit.com/r/TopConspiracy/comments/bbyai1/julian_assange/', 'https://www.reddit.com/r/TopConspiracy/comments/jqgi71/today_reddit_cofounder_and_ardent_defender_of_the/', 'https://www.reddit.com/r/TopConspiracy/comments/9frxfj/bot_support_for_ted_cruz_on_twitter/', 'https://www.reddit.com/r/TopConspiracy/comments/hn135j/90_of_modern_art_is_just_tax_evasion/', 'https://www.reddit.com/r/TopConspiracy/comments/hxmkgp/two_sides_of_the_same_coin/', 'https://www.reddit.com/r/TopConspiracy/comments/coq0ja/on_a_positive_note_maybe_this_is_what_unites_us/'], 'https://www.reddit.com/r/Drama': ['https://www.reddit.com/r/Drama/comments/88ovdz/rconspiracy_is_investigating_the_brewing_sinclair/', 'https://www.reddit.com/r/Drama/comments/5em1x0/uspez_trolls_some_kids_rconspiracy_freaks_out/', 'https://www.reddit.com/r/Drama/comments/dfe9f6/hollywood_isnt_run_by_the_tribe_its_run_by_trappy/'], 'https://www.reddit.com/r/betternews': ['https://www.reddit.com/r/betternews/comments/88np4a/this_was_deleted_twice_from_reddits_front_page/', 'https://www.reddit.com/r/betternews/comments/5w67l6/reminder_it_has_been_2866_days_since_sean_hannity/', 'https://www.reddit.com/r/betternews/comments/7gvkhx/this_is_my_senator_he_sold_me_my_fellow/', 'https://www.reddit.com/r/betternews/comments/53i30f/evidence_of_hillarys_it_guy_paul_combetta_asking/', 'https://www.reddit.com/r/betternews/comments/5elqdu/admins_are_editing_our_posts_guys_its_over/', 'https://www.reddit.com/r/betternews/comments/3xsc6e/hillary_clinton_has_received_more_money_from_the/', 'https://www.reddit.com/r/betternews/comments/7k9o31/terry_crews_if_i_have_a_timely_accident_you_know/', 'https://www.reddit.com/r/betternews/comments/6ax3m4/im_fucking_tired_of_the_fucking_war_on_drugs_jeff/', 'https://www.reddit.com/r/betternews/comments/99yfj2/people_seem_to_have_forgotten_all_this_dont/', 'https://www.reddit.com/r/betternews/comments/4vccq7/hillary_says_we_will_work_to_get_money_out_of/', 'https://www.reddit.com/r/betternews/comments/bavfv7/reddit_actively_removing_video_of_chinese_police/', 'https://www.reddit.com/r/betternews/comments/98dt8r/on_the_left_is_the_former_vice_president_of/', 'https://www.reddit.com/r/betternews/comments/c71con/this_was_just_censored_from_the_1_spot_on_rall/', 'https://www.reddit.com/r/betternews/comments/98u7jv/til_during_the_2013_california_drought_nestle/', 'https://www.reddit.com/r/betternews/comments/7byzo6/president_donald_trump_thinks_scientology_should/', 'https://www.reddit.com/r/betternews/comments/5r1cpi/911_wtc_towers_had_power_turned_off_for_36_hours/', 'https://www.reddit.com/r/betternews/comments/64z5sj/us_taxpayers_gave_400_billion_dollars_to_cable/', 'https://www.reddit.com/r/betternews/comments/5g46o0/bernie_sanders_presidential_run_was_sabotaged_by/', 'https://www.reddit.com/r/betternews/comments/68o1qi/mass_media_are_keeping_a_lid_on_this_the_dnc_is/', 'https://www.reddit.com/r/betternews/comments/5c2q5o/hillary_clintons_presidential_campaign_ends_and/', 'https://www.reddit.com/r/betternews/comments/73w1o7/saudi_arabia_is_mass_murdering_its_shia/', 'https://www.reddit.com/r/betternews/comments/74x1m5/you_cant_deny_that_youtube_is_propaganda_now/', 'https://www.reddit.com/r/betternews/comments/432b1o/man_found_stabbed_inside_his_burning_home_in/', 'https://www.reddit.com/r/betternews/comments/7odykj/here_is_how_colorado_is_spending_its_cannabis_tax/', 'https://www.reddit.com/r/betternews/comments/5gg9hu/abc_news_caught_faking_wcrime_scene_tape/', 'https://www.reddit.com/r/betternews/comments/7jub9z/fcc_literally_laughing_at_the_millions_of/', 'https://www.reddit.com/r/betternews/comments/7k113f/fcc_has_been_using_dead_peoples_accounts_to_shill/', 'https://www.reddit.com/r/betternews/comments/4vz2at/were_reaching_1984_levels_of_deception_in_the/', 'https://www.reddit.com/r/betternews/comments/6258za/dear_trump_the_bill_is_now_on_your_desk_veto_the/', 'https://www.reddit.com/r/betternews/comments/7h3rzh/senator_jon_tester_i_was_just_handed_a_479page/', 'https://www.reddit.com/r/betternews/comments/bbzeck/julian_assange/', 'https://www.reddit.com/r/betternews/comments/637gov/til_the_susan_g_komen_pink_ribbonbreast_cancer_is/', 'https://www.reddit.com/r/betternews/comments/5mbrx4/til_ron_paul_has_his_own_show_on_youtube_the_ron/', 'https://www.reddit.com/r/betternews/comments/9fsip0/bot_support_for_ted_cruz_on_twitter/'], 'https://www.reddit.com/r/hackernews': ['https://www.reddit.com/r/hackernews/comments/53jep0/hillarys_it_guy_asking_reddit_how_to_cover_up/'], 'https://www.reddit.com/r/reddit5000': ['https://www.reddit.com/r/reddit5000/comments/53i6j8/conspiracy_evidence_of_hillarys_it_guy_paul/', 'https://www.reddit.com/r/reddit5000/comments/5elyc8/conspiracy_admins_are_editing_our_posts_guys_its/'], 'https://www.reddit.com/r/DeFranco': ['https://www.reddit.com/r/DeFranco/comments/53jaqd/this_seems_pretty_damning/'], 'https://www.reddit.com/r/Republican': ['https://www.reddit.com/r/Republican/comments/53js24/screenshots_show_hillarys_it_guy_paul_combetta/'], 'https://www.reddit.com/r/Libertarian': ['https://www.reddit.com/r/Libertarian/comments/53js3e/screenshots_show_hillarys_it_guy_paul_combetta/'], 'https://www.reddit.com/r/mistyfront': ['https://www.reddit.com/r/mistyfront/comments/54edan/hillarys_it_guy_paul_combetta_asked_reddit_how_to/'], 'https://www.reddit.com/r/classified': ['https://www.reddit.com/r/classified/comments/coi1eb/epstein_got_suicided_rconspiracy_discusses/'], 'https://www.reddit.com/r/ethereum': ['https://www.reddit.com/r/ethereum/comments/5emptb/reddit_on_ethereum/'], 'https://www.reddit.com/r/ShitTheAdminsSay': ['https://www.reddit.com/r/ShitTheAdminsSay/comments/34vdn3/the_problem_even_with_selfdox_is_that_we_have_no/'], 'https://www.reddit.com/r/notcirclejerk': ['https://www.reddit.com/r/notcirclejerk/comments/3xsydz/hillary_clinton_has_received_more_money_from_the/'], 'https://www.reddit.com/r/enoughsandersspam': ['https://www.reddit.com/r/enoughsandersspam/comments/3xth4v/rconspiracy_is_worried_about_the_proclinton_bias/'], 'https://www.reddit.com/r/undelete': ['https://www.reddit.com/r/undelete/comments/6azq3s/100232782279_im_fucking_tired_of_the_fucking_war/'], 'https://www.reddit.com/r/Drugs': ['https://www.reddit.com/r/Drugs/comments/7j30mz/jeff_sessions_demands_strongest_possible_charges/'], 'https://www.reddit.com/r/Retconned': ['https://www.reddit.com/r/Retconned/comments/6b24of/just_last_night_i_was_investigating_the_war_on/'], 'https://www.reddit.com/r/longtail': ['https://www.reddit.com/r/longtail/comments/6awxow/10245391_im_fucking_tired_of_the_fucking_war_on/'], 'https://www.reddit.com/r/Linky_links': ['https://www.reddit.com/r/Linky_links/comments/99z8j7/people_seem_to_have_forgotten_all_this_dont/', 'https://www.reddit.com/r/Linky_links/comments/ms7gy6/surprised_no_one_talks_about_this_here_rconspiracy/', 'https://www.reddit.com/r/Linky_links/comments/bc1wq0/julian_assange_rconspiracy/'], 'https://www.reddit.com/r/China': ['https://www.reddit.com/r/China/comments/brs9d8/whats_up_with_this_youtube_showing_police_in/', 'https://www.reddit.com/r/China/comments/baxgi1/not_saying_this_is_legit_but_i_am_saying_we_all/', 'https://www.reddit.com/r/China/comments/baxaw6/reddit_wouldnt_let_me_crosspost_this/'], 'https://www.reddit.com/r/conspiracyundone': ['https://www.reddit.com/r/conspiracyundone/comments/baxqz8/broken_clock_right_twice_a_day/'], 'https://www.reddit.com/r/truetherclub': ['https://www.reddit.com/r/truetherclub/comments/gnggan/so_old_fashioned/'], 'https://www.reddit.com/r/circlebroke2': ['https://www.reddit.com/r/circlebroke2/comments/5r1isk/rconspiracy_is_posting_911_truther_posts_16_years/'], 'https://www.reddit.com/r/worldpolitics': ['https://www.reddit.com/r/worldpolitics/comments/df30oe/posts_referring_to_recent_news_on_hk_chinese/'], 'https://www.reddit.com/r/MakingaMurderer': ['https://www.reddit.com/r/MakingaMurderer/comments/435hzy/this_recent_predicted_killing_of_a_person_ratting/'], 'https://www.reddit.com/r/u_kurtpalmers': ['https://www.reddit.com/r/u_kurtpalmers/comments/rdix6w/yesterday_the_atlantic_put_out_an_article/'], 'https://www.reddit.com/r/NewPatriotism': ['https://www.reddit.com/r/NewPatriotism/comments/7og5fv/here_is_how_colorado_is_spending_its_cannabis_tax/'], 'https://www.reddit.com/r/Marijuana': ['https://www.reddit.com/r/Marijuana/comments/7oew2x/here_is_how_colorado_is_spending_its_cannabis_tax/'], 'https://www.reddit.com/r/u_RichelleLove04': ['https://www.reddit.com/r/u_RichelleLove04/comments/7og0e3/so_true/'], 'https://www.reddit.com/r/BullShitMediaEmpire': ['https://www.reddit.com/r/BullShitMediaEmpire/comments/5glcmz/abc_news_caught_faking_wcrime_scene_tape/'], 'https://www.reddit.com/r/bookscirclejerk': ['https://www.reddit.com/r/bookscirclejerk/comments/a4naxu/deception_level_1984/']}\n"
     ]
    }
   ],
   "source": [
    "post_list=list()\n",
    "subreddit_list = list()\n",
    "conspiracy_dict=dict()\n",
    "for i in reddit.subreddit(\"conspiracy\").top(limit=100):\n",
    "    id_to_avoid=i.subreddit_id\n",
    "    post_list.append((i.title, i.score, \"https://www.reddit.com\"+i.permalink))\n",
    "\n",
    "\n",
    "for post in post_list:\n",
    "    for repost in reddit.subreddit('all').search('url:'+post[2]):\n",
    "        if repost.subreddit_id != id_to_avoid:\n",
    "            subreddit_url = str(repost.subreddit)\n",
    "            subreddit_url = \"https://www.reddit.com/r/\" + subreddit_url\n",
    "            if subreddit_url in conspiracy_dict.keys():\n",
    "                conspiracy_dict[subreddit_url].append(\"https://www.reddit.com\"+repost.permalink)\n",
    "            else:\n",
    "                conspiracy_dict[subreddit_url]=[]\n",
    "                conspiracy_dict[subreddit_url].append(\"https://www.reddit.com\"+repost.permalink)\n",
    "\n",
    "\n",
    "print(conspiracy_dict)\n",
    "\n",
    "\n",
    "\n",
    "\n"
   ]
  }
 ],
 "metadata": {
  "interpreter": {
   "hash": "69eb92836b941e979072a76c7fcfffe5419cca933cedd02cfafbdfca1a93358c"
  },
  "kernelspec": {
   "display_name": "Python 3.9.10 64-bit",
   "language": "python",
   "name": "python3"
  },
  "language_info": {
   "codemirror_mode": {
    "name": "ipython",
    "version": 3
   },
   "file_extension": ".py",
   "mimetype": "text/x-python",
   "name": "python",
   "nbconvert_exporter": "python",
   "pygments_lexer": "ipython3",
   "version": "3.9.10"
  },
  "orig_nbformat": 4
 },
 "nbformat": 4,
 "nbformat_minor": 2
}
